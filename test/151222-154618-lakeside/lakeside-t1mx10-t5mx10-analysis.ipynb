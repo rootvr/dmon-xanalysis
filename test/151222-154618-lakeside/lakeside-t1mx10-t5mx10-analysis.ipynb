{
 "cells": [
  {
   "cell_type": "markdown",
   "id": "11705392-2b58-40a8-b47e-183b370fbdf1",
   "metadata": {},
   "source": [
    "# Test analysis"
   ]
  },
  {
   "cell_type": "markdown",
   "id": "3b131141-29c6-46ab-9f62-24008e3f014d",
   "metadata": {},
   "source": [
    "Statistical analysis for 10 repetitions of a 5 minute test and for 10 repetitions of a 1 minute test of the **Lakeside-Mutual** application"
   ]
  },
  {
   "cell_type": "markdown",
   "id": "9edd0d58-82d7-4034-b8b4-abf1be5ef459",
   "metadata": {},
   "source": [
    "### Workloads"
   ]
  },
  {
   "cell_type": "markdown",
   "id": "8c691576-a323-4192-8121-c8b86e9e214c",
   "metadata": {},
   "source": [
    "- **5 minute test**:\n",
    "    - simulated day length: 5 minutes = 300 seconds\n",
    "    - 20 requests per second\n",
    "    - about 6000 total requests"
   ]
  },
  {
   "cell_type": "markdown",
   "id": "3bea3b16-9135-4dd7-b08a-01bb8224cdfd",
   "metadata": {},
   "source": [
    "- **1 minute test** (compressed test):\n",
    "    - simulated day length: 1 minutes = 60 seconds\n",
    "    - 100 requests per second\n",
    "    - about 6000 total requests"
   ]
  },
  {
   "cell_type": "markdown",
   "id": "ed49664d-ae08-4c4b-a01f-3c9d4b3469fa",
   "metadata": {},
   "source": [
    "### Imports and functions"
   ]
  },
  {
   "cell_type": "code",
   "execution_count": 1,
   "id": "d5cdb225-ee19-4755-873f-d2bca5ae80e3",
   "metadata": {},
   "outputs": [],
   "source": [
    "import os\n",
    "import pathlib\n",
    "import sys\n",
    "\n",
    "import numpy as np\n",
    "import pandas as pd\n",
    "from IPython.display import HTML, display, display_html\n",
    "\n",
    "mod_path = os.path.abspath(os.path.join(\"../../src/alyslib\"))\n",
    "if mod_path not in sys.path:\n",
    "    sys.path.append(mod_path)\n",
    "\n",
    "import alyslib"
   ]
  },
  {
   "cell_type": "code",
   "execution_count": 2,
   "id": "9be0c6fa-f57b-4b7c-8e70-5f0129aeefd1",
   "metadata": {},
   "outputs": [],
   "source": [
    "# function that returns a list that contains\n",
    "# the mean of the TimeDeltas for every dataframe\n",
    "def get_means(df):\n",
    "    l = []\n",
    "    for d in df:\n",
    "        l.append(d.TimeDelta.mean())\n",
    "    return l\n",
    "\n",
    "\n",
    "# function that calculates the confidence interval\n",
    "# (with `z_score`=1.96, returns a 95% confidence interval)\n",
    "def conf_interval(data, z_score=1.96):\n",
    "    mean = np.mean(data)\n",
    "    std = np.std(data)\n",
    "    size = len(data)\n",
    "    err = z_score * (std / np.sqrt(size))\n",
    "    return (mean - err, mean + err)"
   ]
  },
  {
   "cell_type": "markdown",
   "id": "6d333b4b-3877-424f-b239-04bd281076d5",
   "metadata": {},
   "source": [
    "### Datasets - import"
   ]
  },
  {
   "cell_type": "code",
   "execution_count": 3,
   "id": "ca21982e-8d88-48e2-8b8d-24c017e7eb27",
   "metadata": {},
   "outputs": [],
   "source": [
    "l = alyslib.import_data(\"./data\", \"net.gen\")"
   ]
  },
  {
   "cell_type": "markdown",
   "id": "8251d3b6-a63f-4e5d-aa36-1ceafacb4a01",
   "metadata": {},
   "source": [
    "### DataFrames - building"
   ]
  },
  {
   "cell_type": "code",
   "execution_count": 4,
   "id": "e8959af3-9533-48a7-931b-b9e40aa5a64b",
   "metadata": {},
   "outputs": [],
   "source": [
    "d0, d1 = alyslib.build_dfs(l)"
   ]
  },
  {
   "cell_type": "code",
   "execution_count": 5,
   "id": "18117e0c-1a2d-448d-8018-5226818e0736",
   "metadata": {},
   "outputs": [],
   "source": [
    "dfmerge = d0 + d1"
   ]
  },
  {
   "cell_type": "markdown",
   "id": "b96e8c8a-44a4-4d59-b131-5ea39829a6c2",
   "metadata": {},
   "source": [
    "### DataFrames - cleaning network noise"
   ]
  },
  {
   "cell_type": "markdown",
   "id": "349a2571-71a9-4077-87ea-ca697c6cd06e",
   "metadata": {},
   "source": [
    "For the analysis of the tests we cannot have **SendIP** and **RecvIP** differences. We clean the network noise for every pair of tests."
   ]
  },
  {
   "cell_type": "code",
   "execution_count": 6,
   "id": "27ad84d8-65bc-4d1a-a592-7b6e3ac6a20c",
   "metadata": {},
   "outputs": [],
   "source": [
    "alyslib.clean_network_noise(dfmerge)"
   ]
  },
  {
   "cell_type": "markdown",
   "id": "fa8ee0f2-717f-4ffe-bb5f-f2e5fb16390c",
   "metadata": {},
   "source": [
    "### Dataframes - sorting by Timestamp"
   ]
  },
  {
   "cell_type": "code",
   "execution_count": 7,
   "id": "279797b7-13c1-4091-99e2-9213a028e0d8",
   "metadata": {},
   "outputs": [],
   "source": [
    "alyslib.sort_by_key(dfmerge, \"Timestamp\")"
   ]
  },
  {
   "cell_type": "markdown",
   "id": "5d8fcba4-b2d7-4793-8156-44f662472887",
   "metadata": {},
   "source": [
    "### Dataframes - generating column Elapsed time"
   ]
  },
  {
   "cell_type": "code",
   "execution_count": 8,
   "id": "4882c000-38c1-46ea-8ad4-ee9624cace1d",
   "metadata": {},
   "outputs": [],
   "source": [
    "alyslib.cmp_elapsed(dfmerge)"
   ]
  },
  {
   "cell_type": "markdown",
   "id": "eb726f69-d0f4-47de-8ed6-6f7737959d3b",
   "metadata": {},
   "source": [
    "### Analysis - 1 minute test"
   ]
  },
  {
   "cell_type": "code",
   "execution_count": 9,
   "id": "21a95cec-fd90-48df-9a1f-c0f5381eb363",
   "metadata": {},
   "outputs": [],
   "source": [
    "d0m = get_means(d0)"
   ]
  },
  {
   "cell_type": "code",
   "execution_count": 10,
   "id": "0a89cdc1-87eb-4fca-8f68-b3bdd413f075",
   "metadata": {},
   "outputs": [
    {
     "data": {
      "text/html": [
       "<div>\n",
       "<style scoped>\n",
       "    .dataframe tbody tr th:only-of-type {\n",
       "        vertical-align: middle;\n",
       "    }\n",
       "\n",
       "    .dataframe tbody tr th {\n",
       "        vertical-align: top;\n",
       "    }\n",
       "\n",
       "    .dataframe thead th {\n",
       "        text-align: right;\n",
       "    }\n",
       "</style>\n",
       "<table border=\"1\" class=\"dataframe\">\n",
       "  <thead>\n",
       "    <tr style=\"text-align: right;\">\n",
       "      <th></th>\n",
       "      <th>means</th>\n",
       "    </tr>\n",
       "  </thead>\n",
       "  <tbody>\n",
       "    <tr>\n",
       "      <th>0</th>\n",
       "      <td>0.040251</td>\n",
       "    </tr>\n",
       "    <tr>\n",
       "      <th>1</th>\n",
       "      <td>0.039671</td>\n",
       "    </tr>\n",
       "    <tr>\n",
       "      <th>2</th>\n",
       "      <td>0.042893</td>\n",
       "    </tr>\n",
       "    <tr>\n",
       "      <th>3</th>\n",
       "      <td>0.037291</td>\n",
       "    </tr>\n",
       "    <tr>\n",
       "      <th>4</th>\n",
       "      <td>0.039666</td>\n",
       "    </tr>\n",
       "    <tr>\n",
       "      <th>5</th>\n",
       "      <td>0.040487</td>\n",
       "    </tr>\n",
       "    <tr>\n",
       "      <th>6</th>\n",
       "      <td>0.039763</td>\n",
       "    </tr>\n",
       "    <tr>\n",
       "      <th>7</th>\n",
       "      <td>0.039808</td>\n",
       "    </tr>\n",
       "    <tr>\n",
       "      <th>8</th>\n",
       "      <td>0.039885</td>\n",
       "    </tr>\n",
       "    <tr>\n",
       "      <th>9</th>\n",
       "      <td>0.039849</td>\n",
       "    </tr>\n",
       "  </tbody>\n",
       "</table>\n",
       "</div>"
      ],
      "text/plain": [
       "      means\n",
       "0  0.040251\n",
       "1  0.039671\n",
       "2  0.042893\n",
       "3  0.037291\n",
       "4  0.039666\n",
       "5  0.040487\n",
       "6  0.039763\n",
       "7  0.039808\n",
       "8  0.039885\n",
       "9  0.039849"
      ]
     },
     "metadata": {},
     "output_type": "display_data"
    },
    {
     "data": {
      "text/html": [
       "<div>\n",
       "<style scoped>\n",
       "    .dataframe tbody tr th:only-of-type {\n",
       "        vertical-align: middle;\n",
       "    }\n",
       "\n",
       "    .dataframe tbody tr th {\n",
       "        vertical-align: top;\n",
       "    }\n",
       "\n",
       "    .dataframe thead th {\n",
       "        text-align: right;\n",
       "    }\n",
       "</style>\n",
       "<table border=\"1\" class=\"dataframe\">\n",
       "  <thead>\n",
       "    <tr style=\"text-align: right;\">\n",
       "      <th></th>\n",
       "      <th>mean of means</th>\n",
       "      <th>std of means</th>\n",
       "      <th>95% conf interval</th>\n",
       "    </tr>\n",
       "  </thead>\n",
       "  <tbody>\n",
       "    <tr>\n",
       "      <th>0</th>\n",
       "      <td>0.039956</td>\n",
       "      <td>0.001278</td>\n",
       "      <td>(0.039164105436788145, 0.04074853432831304)</td>\n",
       "    </tr>\n",
       "  </tbody>\n",
       "</table>\n",
       "</div>"
      ],
      "text/plain": [
       "   mean of means  std of means                            95% conf interval\n",
       "0       0.039956      0.001278  (0.039164105436788145, 0.04074853432831304)"
      ]
     },
     "metadata": {},
     "output_type": "display_data"
    }
   ],
   "source": [
    "display(pd.DataFrame(d0m, columns=[\"means\"]))\n",
    "display(\n",
    "    pd.DataFrame(\n",
    "        [[np.mean(d0m), np.std(d0m), conf_interval(d0m)]],\n",
    "        columns=[\"mean of means\", \"std of means\", \"95% conf interval\"],\n",
    "    )\n",
    ")"
   ]
  },
  {
   "cell_type": "markdown",
   "id": "c97e85e1-492e-4955-afcb-e1db2582e296",
   "metadata": {},
   "source": [
    "1. we calculated the **TimeDelta mean** for every DataFrame generated for the current test (we have 10 repetitions, so we have 10 DataFrames).\n",
    "2. we calculated the **mean of the means** calculated above\n",
    "3. we calculated the **standard deviation of the means** calculated above\n",
    "4. we calculated the **95% confidence interval of the means** calculated above"
   ]
  },
  {
   "cell_type": "markdown",
   "id": "b3cf743b-94b5-46d3-b1b8-af6d3edce4f1",
   "metadata": {},
   "source": [
    "### Analysis - 5 minutes test"
   ]
  },
  {
   "cell_type": "code",
   "execution_count": 11,
   "id": "c69d91be-b2be-4450-98e0-e9ec7c9ba802",
   "metadata": {},
   "outputs": [],
   "source": [
    "d1m = get_means(d1)"
   ]
  },
  {
   "cell_type": "code",
   "execution_count": 12,
   "id": "6eb5d9b9-867f-4824-9147-24589dd7de3f",
   "metadata": {},
   "outputs": [
    {
     "data": {
      "text/html": [
       "<div>\n",
       "<style scoped>\n",
       "    .dataframe tbody tr th:only-of-type {\n",
       "        vertical-align: middle;\n",
       "    }\n",
       "\n",
       "    .dataframe tbody tr th {\n",
       "        vertical-align: top;\n",
       "    }\n",
       "\n",
       "    .dataframe thead th {\n",
       "        text-align: right;\n",
       "    }\n",
       "</style>\n",
       "<table border=\"1\" class=\"dataframe\">\n",
       "  <thead>\n",
       "    <tr style=\"text-align: right;\">\n",
       "      <th></th>\n",
       "      <th>means</th>\n",
       "    </tr>\n",
       "  </thead>\n",
       "  <tbody>\n",
       "    <tr>\n",
       "      <th>0</th>\n",
       "      <td>0.179407</td>\n",
       "    </tr>\n",
       "    <tr>\n",
       "      <th>1</th>\n",
       "      <td>0.177271</td>\n",
       "    </tr>\n",
       "    <tr>\n",
       "      <th>2</th>\n",
       "      <td>0.181167</td>\n",
       "    </tr>\n",
       "    <tr>\n",
       "      <th>3</th>\n",
       "      <td>0.180987</td>\n",
       "    </tr>\n",
       "    <tr>\n",
       "      <th>4</th>\n",
       "      <td>0.184761</td>\n",
       "    </tr>\n",
       "    <tr>\n",
       "      <th>5</th>\n",
       "      <td>0.160731</td>\n",
       "    </tr>\n",
       "    <tr>\n",
       "      <th>6</th>\n",
       "      <td>0.174199</td>\n",
       "    </tr>\n",
       "    <tr>\n",
       "      <th>7</th>\n",
       "      <td>0.183377</td>\n",
       "    </tr>\n",
       "    <tr>\n",
       "      <th>8</th>\n",
       "      <td>0.174418</td>\n",
       "    </tr>\n",
       "    <tr>\n",
       "      <th>9</th>\n",
       "      <td>0.148160</td>\n",
       "    </tr>\n",
       "  </tbody>\n",
       "</table>\n",
       "</div>"
      ],
      "text/plain": [
       "      means\n",
       "0  0.179407\n",
       "1  0.177271\n",
       "2  0.181167\n",
       "3  0.180987\n",
       "4  0.184761\n",
       "5  0.160731\n",
       "6  0.174199\n",
       "7  0.183377\n",
       "8  0.174418\n",
       "9  0.148160"
      ]
     },
     "metadata": {},
     "output_type": "display_data"
    },
    {
     "data": {
      "text/html": [
       "<div>\n",
       "<style scoped>\n",
       "    .dataframe tbody tr th:only-of-type {\n",
       "        vertical-align: middle;\n",
       "    }\n",
       "\n",
       "    .dataframe tbody tr th {\n",
       "        vertical-align: top;\n",
       "    }\n",
       "\n",
       "    .dataframe thead th {\n",
       "        text-align: right;\n",
       "    }\n",
       "</style>\n",
       "<table border=\"1\" class=\"dataframe\">\n",
       "  <thead>\n",
       "    <tr style=\"text-align: right;\">\n",
       "      <th></th>\n",
       "      <th>mean of means</th>\n",
       "      <th>std of means</th>\n",
       "      <th>95% conf interval</th>\n",
       "    </tr>\n",
       "  </thead>\n",
       "  <tbody>\n",
       "    <tr>\n",
       "      <th>0</th>\n",
       "      <td>0.174448</td>\n",
       "      <td>0.01089</td>\n",
       "      <td>(0.16769825473057587, 0.1811971233366496)</td>\n",
       "    </tr>\n",
       "  </tbody>\n",
       "</table>\n",
       "</div>"
      ],
      "text/plain": [
       "   mean of means  std of means                          95% conf interval\n",
       "0       0.174448       0.01089  (0.16769825473057587, 0.1811971233366496)"
      ]
     },
     "metadata": {},
     "output_type": "display_data"
    }
   ],
   "source": [
    "display(pd.DataFrame(d1m, columns=[\"means\"]))\n",
    "display(\n",
    "    pd.DataFrame(\n",
    "        [[np.mean(d1m), np.std(d1m), conf_interval(d1m)]],\n",
    "        columns=[\"mean of means\", \"std of means\", \"95% conf interval\"],\n",
    "    )\n",
    ")"
   ]
  },
  {
   "cell_type": "markdown",
   "id": "93844ad1-ee5c-4bc3-945d-d7707ffd3ce5",
   "metadata": {},
   "source": [
    "We performed the same calculations as the previous test with this new test (again we have 10 repetitions, so we have 10 DataFrames for the current test)"
   ]
  },
  {
   "cell_type": "markdown",
   "id": "1658a77f-fd14-4c45-83a9-31d62f30df1a",
   "metadata": {},
   "source": [
    "### Analysis - comparison between the tests"
   ]
  },
  {
   "cell_type": "code",
   "execution_count": 13,
   "id": "b8537bb3-2d87-4838-b485-c63b7058fcb5",
   "metadata": {},
   "outputs": [
    {
     "data": {
      "text/html": [
       "<div>\n",
       "<style scoped>\n",
       "    .dataframe tbody tr th:only-of-type {\n",
       "        vertical-align: middle;\n",
       "    }\n",
       "\n",
       "    .dataframe tbody tr th {\n",
       "        vertical-align: top;\n",
       "    }\n",
       "\n",
       "    .dataframe thead th {\n",
       "        text-align: right;\n",
       "    }\n",
       "</style>\n",
       "<table border=\"1\" class=\"dataframe\">\n",
       "  <thead>\n",
       "    <tr style=\"text-align: right;\">\n",
       "      <th></th>\n",
       "      <th>mean of means</th>\n",
       "      <th>std of means</th>\n",
       "      <th>95% conf interval</th>\n",
       "    </tr>\n",
       "  </thead>\n",
       "  <tbody>\n",
       "    <tr>\n",
       "      <th>1m test</th>\n",
       "      <td>0.039956</td>\n",
       "      <td>0.001278</td>\n",
       "      <td>(0.039164105436788145, 0.04074853432831304)</td>\n",
       "    </tr>\n",
       "    <tr>\n",
       "      <th>5m test</th>\n",
       "      <td>0.174448</td>\n",
       "      <td>0.010890</td>\n",
       "      <td>(0.16769825473057587, 0.1811971233366496)</td>\n",
       "    </tr>\n",
       "  </tbody>\n",
       "</table>\n",
       "</div>"
      ],
      "text/plain": [
       "         mean of means  std of means  \\\n",
       "1m test       0.039956      0.001278   \n",
       "5m test       0.174448      0.010890   \n",
       "\n",
       "                                   95% conf interval  \n",
       "1m test  (0.039164105436788145, 0.04074853432831304)  \n",
       "5m test    (0.16769825473057587, 0.1811971233366496)  "
      ]
     },
     "metadata": {},
     "output_type": "display_data"
    }
   ],
   "source": [
    "display(\n",
    "    pd.DataFrame(\n",
    "        [\n",
    "            [np.mean(d0m), np.std(d0m), conf_interval(d0m)],\n",
    "            [np.mean(d1m), np.std(d1m), conf_interval(d1m)],\n",
    "        ],\n",
    "        columns=[\"mean of means\", \"std of means\", \"95% conf interval\"],\n",
    "        index=[\"1m test\", \"5m test\"],\n",
    "    )\n",
    ")"
   ]
  },
  {
   "cell_type": "markdown",
   "id": "ba13e81e-8bd4-4c90-b0b2-7ad7fe631813",
   "metadata": {},
   "source": [
    "In conclusion, we present above the achieved results to compare the results of both tests simultaneously"
   ]
  }
 ],
 "metadata": {
  "kernelspec": {
   "display_name": "Python 3 (ipykernel)",
   "language": "python",
   "name": "python3"
  },
  "language_info": {
   "codemirror_mode": {
    "name": "ipython",
    "version": 3
   },
   "file_extension": ".py",
   "mimetype": "text/x-python",
   "name": "python",
   "nbconvert_exporter": "python",
   "pygments_lexer": "ipython3",
   "version": "3.10.8"
  }
 },
 "nbformat": 4,
 "nbformat_minor": 5
}
