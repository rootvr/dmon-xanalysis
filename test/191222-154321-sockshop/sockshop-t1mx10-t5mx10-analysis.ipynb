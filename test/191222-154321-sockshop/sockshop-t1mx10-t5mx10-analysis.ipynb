{
 "cells": [
  {
   "cell_type": "markdown",
   "id": "11705392-2b58-40a8-b47e-183b370fbdf1",
   "metadata": {},
   "source": [
    "# Test analysis"
   ]
  },
  {
   "cell_type": "markdown",
   "id": "3b131141-29c6-46ab-9f62-24008e3f014d",
   "metadata": {},
   "source": [
    "Statistical analysis for 10 repetitions of a 5 minute test and for 10 repetitions of a 1 minute test of the **Sockshop** application"
   ]
  },
  {
   "cell_type": "markdown",
   "id": "9edd0d58-82d7-4034-b8b4-abf1be5ef459",
   "metadata": {},
   "source": [
    "### Workloads"
   ]
  },
  {
   "cell_type": "markdown",
   "id": "8c691576-a323-4192-8121-c8b86e9e214c",
   "metadata": {},
   "source": [
    "- **5 minute test**:\n",
    "    - simulated day length: 5 minutes = 300 seconds\n",
    "    - 20 requests per second\n",
    "    - about 6000 total requests"
   ]
  },
  {
   "cell_type": "markdown",
   "id": "3bea3b16-9135-4dd7-b08a-01bb8224cdfd",
   "metadata": {},
   "source": [
    "- **1 minute test** (compressed test):\n",
    "    - simulated day length: 1 minutes = 60 seconds\n",
    "    - 100 requests per second\n",
    "    - about 6000 total requests"
   ]
  },
  {
   "cell_type": "markdown",
   "id": "ed49664d-ae08-4c4b-a01f-3c9d4b3469fa",
   "metadata": {},
   "source": [
    "### Imports and functions"
   ]
  },
  {
   "cell_type": "code",
   "execution_count": null,
   "id": "d5cdb225-ee19-4755-873f-d2bca5ae80e3",
   "metadata": {},
   "outputs": [],
   "source": [
    "import os\n",
    "import pathlib\n",
    "import sys\n",
    "\n",
    "import numpy as np\n",
    "import pandas as pd\n",
    "from IPython.display import HTML, display, display_html\n",
    "\n",
    "mod_path = os.path.abspath(os.path.join(\"../../src/alyslib\"))\n",
    "if mod_path not in sys.path:\n",
    "    sys.path.append(mod_path)\n",
    "\n",
    "import alyslib"
   ]
  },
  {
   "cell_type": "code",
   "execution_count": null,
   "id": "9be0c6fa-f57b-4b7c-8e70-5f0129aeefd1",
   "metadata": {},
   "outputs": [],
   "source": [
    "# function that returns a list that contains\n",
    "# the mean of the TimeDeltas for every dataframe\n",
    "def get_means(df):\n",
    "    l = []\n",
    "    for d in df:\n",
    "        l.append(d.TimeDelta.mean())\n",
    "    return l\n",
    "\n",
    "\n",
    "# function that calculates the confidence interval\n",
    "# (with `z_score`=1.96, returns a 95% confidence interval)\n",
    "def conf_interval(data, z_score=1.96):\n",
    "    mean = np.mean(data)\n",
    "    std = np.std(data)\n",
    "    size = len(data)\n",
    "    err = z_score * (std / np.sqrt(size))\n",
    "    return (mean - err, mean + err)"
   ]
  },
  {
   "cell_type": "markdown",
   "id": "6d333b4b-3877-424f-b239-04bd281076d5",
   "metadata": {},
   "source": [
    "### Datasets - import"
   ]
  },
  {
   "cell_type": "code",
   "execution_count": null,
   "id": "ca21982e-8d88-48e2-8b8d-24c017e7eb27",
   "metadata": {},
   "outputs": [],
   "source": [
    "l = alyslib.import_data(\"./data\", \"net.gen\")"
   ]
  },
  {
   "cell_type": "markdown",
   "id": "8251d3b6-a63f-4e5d-aa36-1ceafacb4a01",
   "metadata": {},
   "source": [
    "### DataFrames - building"
   ]
  },
  {
   "cell_type": "code",
   "execution_count": null,
   "id": "e8959af3-9533-48a7-931b-b9e40aa5a64b",
   "metadata": {},
   "outputs": [],
   "source": [
    "d0, d1 = alyslib.build_dfs(l)"
   ]
  },
  {
   "cell_type": "code",
   "execution_count": null,
   "id": "18117e0c-1a2d-448d-8018-5226818e0736",
   "metadata": {},
   "outputs": [],
   "source": [
    "dfmerge = d0 + d1"
   ]
  },
  {
   "cell_type": "markdown",
   "id": "b96e8c8a-44a4-4d59-b131-5ea39829a6c2",
   "metadata": {},
   "source": [
    "### DataFrames - cleaning network noise"
   ]
  },
  {
   "cell_type": "markdown",
   "id": "349a2571-71a9-4077-87ea-ca697c6cd06e",
   "metadata": {},
   "source": [
    "For the analysis of the tests we cannot have **SendIP** and **RecvIP** differences. We clean the network noise for every pair of tests."
   ]
  },
  {
   "cell_type": "code",
   "execution_count": null,
   "id": "27ad84d8-65bc-4d1a-a592-7b6e3ac6a20c",
   "metadata": {},
   "outputs": [],
   "source": [
    "alyslib.clean_network_noise(dfmerge)"
   ]
  },
  {
   "cell_type": "markdown",
   "id": "fa8ee0f2-717f-4ffe-bb5f-f2e5fb16390c",
   "metadata": {},
   "source": [
    "### Dataframes - sorting by Timestamp"
   ]
  },
  {
   "cell_type": "code",
   "execution_count": null,
   "id": "279797b7-13c1-4091-99e2-9213a028e0d8",
   "metadata": {},
   "outputs": [],
   "source": [
    "alyslib.sort_by_key(dfmerge, \"Timestamp\")"
   ]
  },
  {
   "cell_type": "markdown",
   "id": "5d8fcba4-b2d7-4793-8156-44f662472887",
   "metadata": {},
   "source": [
    "### Dataframes - generating column Elapsed time"
   ]
  },
  {
   "cell_type": "code",
   "execution_count": null,
   "id": "4882c000-38c1-46ea-8ad4-ee9624cace1d",
   "metadata": {},
   "outputs": [],
   "source": [
    "alyslib.cmp_elapsed(dfmerge)"
   ]
  },
  {
   "cell_type": "markdown",
   "id": "80e24724-44e2-42eb-94dd-653c05004a64",
   "metadata": {},
   "source": [
    "### DataFrames - removing TimeDelta outliers"
   ]
  },
  {
   "cell_type": "markdown",
   "id": "b46c8a07-b956-49f4-925e-4dbd4a93c794",
   "metadata": {},
   "source": [
    "We treat as outliers every TimeDelta that is greater than the third TimeDelta quantile (q3 = 0.75)."
   ]
  },
  {
   "cell_type": "code",
   "execution_count": null,
   "id": "9d8c9bd7-0f33-4eb1-a6b5-18031b7f48c2",
   "metadata": {},
   "outputs": [],
   "source": [
    "alyslib.clean_timedelta_outliers(dfmerge)"
   ]
  },
  {
   "cell_type": "markdown",
   "id": "eb726f69-d0f4-47de-8ed6-6f7737959d3b",
   "metadata": {},
   "source": [
    "### Analysis - 5 minutes test"
   ]
  },
  {
   "cell_type": "code",
   "execution_count": null,
   "id": "21a95cec-fd90-48df-9a1f-c0f5381eb363",
   "metadata": {},
   "outputs": [],
   "source": [
    "d0m = get_means(d0)"
   ]
  },
  {
   "cell_type": "code",
   "execution_count": null,
   "id": "0a89cdc1-87eb-4fca-8f68-b3bdd413f075",
   "metadata": {},
   "outputs": [],
   "source": [
    "display(pd.DataFrame(d0m, columns=[\"means\"]))\n",
    "display(\n",
    "    pd.DataFrame(\n",
    "        [[np.mean(d0m), np.std(d0m), conf_interval(d0m)]],\n",
    "        columns=[\"mean of means\", \"std of means\", \"95% conf interval\"],\n",
    "    )\n",
    ")"
   ]
  },
  {
   "cell_type": "markdown",
   "id": "c97e85e1-492e-4955-afcb-e1db2582e296",
   "metadata": {},
   "source": [
    "1. we calculated the **TimeDelta mean** for every DataFrame generated for the current test (we have 10 repetitions, so we have 10 DataFrames).\n",
    "2. we calculated the **mean of the means** calculated above\n",
    "3. we calculated the **standard deviation of the means** calculated above\n",
    "4. we calculated the **95% confidence interval of the means** calculated above"
   ]
  },
  {
   "cell_type": "markdown",
   "id": "b3cf743b-94b5-46d3-b1b8-af6d3edce4f1",
   "metadata": {},
   "source": [
    "### Analysis - 1 minute test"
   ]
  },
  {
   "cell_type": "code",
   "execution_count": null,
   "id": "c69d91be-b2be-4450-98e0-e9ec7c9ba802",
   "metadata": {},
   "outputs": [],
   "source": [
    "d1m = get_means(d1)"
   ]
  },
  {
   "cell_type": "code",
   "execution_count": null,
   "id": "6eb5d9b9-867f-4824-9147-24589dd7de3f",
   "metadata": {},
   "outputs": [],
   "source": [
    "display(pd.DataFrame(d1m, columns=[\"means\"]))\n",
    "display(\n",
    "    pd.DataFrame(\n",
    "        [[np.mean(d1m), np.std(d1m), conf_interval(d1m)]],\n",
    "        columns=[\"mean of means\", \"std of means\", \"95% conf interval\"],\n",
    "    )\n",
    ")"
   ]
  },
  {
   "cell_type": "markdown",
   "id": "93844ad1-ee5c-4bc3-945d-d7707ffd3ce5",
   "metadata": {},
   "source": [
    "We performed the same calculations as the previous test with this new test (again we have 10 repetitions, so we have 10 DataFrames for the current test)"
   ]
  },
  {
   "cell_type": "markdown",
   "id": "1658a77f-fd14-4c45-83a9-31d62f30df1a",
   "metadata": {},
   "source": [
    "### Analysis - comparison between the tests"
   ]
  },
  {
   "cell_type": "code",
   "execution_count": null,
   "id": "b8537bb3-2d87-4838-b485-c63b7058fcb5",
   "metadata": {},
   "outputs": [],
   "source": [
    "display(\n",
    "    pd.DataFrame(\n",
    "        [\n",
    "            [np.mean(d0m), np.std(d0m), conf_interval(d0m)],\n",
    "            [np.mean(d1m), np.std(d1m), conf_interval(d1m)],\n",
    "        ],\n",
    "        columns=[\"mean of means\", \"std of means\", \"95% conf interval\"],\n",
    "        index=[\"5m test\", \"1m test\"],\n",
    "    )\n",
    ")"
   ]
  },
  {
   "cell_type": "markdown",
   "id": "ba13e81e-8bd4-4c90-b0b2-7ad7fe631813",
   "metadata": {},
   "source": [
    "In conclusion, we present above the achieved results to compare the results of both tests simultaneously"
   ]
  }
 ],
 "metadata": {
  "kernelspec": {
   "display_name": "Python 3 (ipykernel)",
   "language": "python",
   "name": "python3"
  },
  "language_info": {
   "codemirror_mode": {
    "name": "ipython",
    "version": 3
   },
   "file_extension": ".py",
   "mimetype": "text/x-python",
   "name": "python",
   "nbconvert_exporter": "python",
   "pygments_lexer": "ipython3",
   "version": "3.10.8"
  }
 },
 "nbformat": 4,
 "nbformat_minor": 5
}
