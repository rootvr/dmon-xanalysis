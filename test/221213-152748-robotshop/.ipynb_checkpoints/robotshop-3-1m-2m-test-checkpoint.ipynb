{
 "cells": [
  {
   "cell_type": "markdown",
   "id": "ba9dfe35",
   "metadata": {},
   "source": [
    "# Test analysis"
   ]
  },
  {
   "cell_type": "markdown",
   "id": "488a685d",
   "metadata": {},
   "source": [
    "Statistical analysis for 3 1 minute tests and 3 2 minute tests of the **Robot-Shop** application"
   ]
  },
  {
   "cell_type": "markdown",
   "id": "48e47889",
   "metadata": {},
   "source": [
    "### Workloads\n",
    "\n",
    "- **1 minute test**:\n",
    "    - Single API request\n",
    "    - Simulated day length: 60 seconds = 1 minute\n",
    "    - 10 requests per second\n",
    "    - About 600 total requests (without considering network noise)\n",
    "\n",
    "\n",
    "- **2 minute test**:\n",
    "    - Single API request\n",
    "    - Simulated day length: 120 seconds = 2 minute\n",
    "    - 5 requests per second\n",
    "    - About 600 total requests (without considering network noise)"
   ]
  },
  {
   "cell_type": "markdown",
   "id": "713bfb06",
   "metadata": {},
   "source": [
    "### Imports and functions"
   ]
  },
  {
   "cell_type": "code",
   "execution_count": 1,
   "id": "d4694b21",
   "metadata": {},
   "outputs": [],
   "source": [
    "import os\n",
    "import sys\n",
    "import pandas as pd\n",
    "\n",
    "from IPython.display import display_html\n",
    "from itertools import chain,cycle,combinations"
   ]
  },
  {
   "cell_type": "code",
   "execution_count": 2,
   "id": "3e3f8061",
   "metadata": {},
   "outputs": [],
   "source": [
    "def display_side_by_side(*args,titles=cycle([''])):\n",
    "    html_str=''\n",
    "    for df,title in zip(args, chain(titles,cycle(['</br>'])) ):\n",
    "        html_str+='<th style=\"text-align:center\"><td style=\"vertical-align:top\">'\n",
    "        html_str+=f'<h3 style=\"text-align: center;\">{title}</h3>'\n",
    "        html_str+='<br />'\n",
    "        html_str+=df.to_html().replace('table','table style=\"display:inline\"')\n",
    "        html_str+='</td></th>'\n",
    "    display_html(html_str,raw=True)"
   ]
  },
  {
   "cell_type": "code",
   "execution_count": 3,
   "id": "471d0de6",
   "metadata": {},
   "outputs": [],
   "source": [
    "module_path = os.path.abspath(os.path.join(\"..\"))\n",
    "if module_path not in sys.path:\n",
    "    sys.path.append(module_path)"
   ]
  },
  {
   "cell_type": "code",
   "execution_count": 4,
   "id": "949cd50f",
   "metadata": {},
   "outputs": [],
   "source": [
    "import testlib"
   ]
  },
  {
   "cell_type": "markdown",
   "id": "ef4ccabe",
   "metadata": {},
   "source": [
    "### Configs"
   ]
  },
  {
   "cell_type": "code",
   "execution_count": 5,
   "id": "32bc53cb-2820-486b-9d5c-415b571d4e2c",
   "metadata": {},
   "outputs": [],
   "source": [
    "# pandas configs\n",
    "pd.set_option(\"display.max_column\", None)\n",
    "pd.set_option(\"display.max_rows\", None)\n",
    "pd.set_option(\"display.max_seq_items\", None)\n",
    "pd.set_option(\"display.max_colwidth\", None)\n",
    "pd.set_option(\"expand_frame_repr\", True)"
   ]
  },
  {
   "cell_type": "markdown",
   "id": "03aad93e",
   "metadata": {},
   "source": [
    "### Datasets - import"
   ]
  },
  {
   "cell_type": "code",
   "execution_count": 6,
   "id": "74a8565e",
   "metadata": {},
   "outputs": [],
   "source": [
    "# tests description\n",
    "t1_d = 1\n",
    "t2_d = 2\n",
    "u1 = 'm'\n",
    "u2 = 'm'"
   ]
  },
  {
   "cell_type": "code",
   "execution_count": 7,
   "id": "5c5e2de7",
   "metadata": {},
   "outputs": [],
   "source": [
    "datasets = testlib.import_netgen_datasets(\"data\")"
   ]
  },
  {
   "cell_type": "code",
   "execution_count": 8,
   "id": "cd8bff2f",
   "metadata": {},
   "outputs": [
    {
     "data": {
      "text/plain": [
       "['/home/riccardo/Documenti/GitHub/rootvr/dmon-xanalysis/test/221213-152748-robotshop/data/221213-152748-0-1m-tests/2-1m/2.net.gen.json',\n",
       " '/home/riccardo/Documenti/GitHub/rootvr/dmon-xanalysis/test/221213-152748-robotshop/data/221213-152748-0-1m-tests/2-1m/1.net.gen.json',\n",
       " '/home/riccardo/Documenti/GitHub/rootvr/dmon-xanalysis/test/221213-152748-robotshop/data/221213-152748-0-1m-tests/2-1m/3.net.gen.json',\n",
       " '/home/riccardo/Documenti/GitHub/rootvr/dmon-xanalysis/test/221213-152748-robotshop/data/221213-152748-0-1m-tests/2-1m/0.net.gen.json']"
      ]
     },
     "execution_count": 8,
     "metadata": {},
     "output_type": "execute_result"
    }
   ],
   "source": [
    "datasets[0][0]"
   ]
  },
  {
   "cell_type": "code",
   "execution_count": 9,
   "id": "65797d20",
   "metadata": {},
   "outputs": [
    {
     "data": {
      "text/plain": [
       "['/home/riccardo/Documenti/GitHub/rootvr/dmon-xanalysis/test/221213-152748-robotshop/data/221213-153104-1-2m-tests/1-2m/2.net.gen.json',\n",
       " '/home/riccardo/Documenti/GitHub/rootvr/dmon-xanalysis/test/221213-152748-robotshop/data/221213-153104-1-2m-tests/1-2m/1.net.gen.json',\n",
       " '/home/riccardo/Documenti/GitHub/rootvr/dmon-xanalysis/test/221213-152748-robotshop/data/221213-153104-1-2m-tests/1-2m/4.net.gen.json',\n",
       " '/home/riccardo/Documenti/GitHub/rootvr/dmon-xanalysis/test/221213-152748-robotshop/data/221213-153104-1-2m-tests/1-2m/3.net.gen.json',\n",
       " '/home/riccardo/Documenti/GitHub/rootvr/dmon-xanalysis/test/221213-152748-robotshop/data/221213-153104-1-2m-tests/1-2m/0.net.gen.json']"
      ]
     },
     "execution_count": 9,
     "metadata": {},
     "output_type": "execute_result"
    }
   ],
   "source": [
    "datasets[1][0]"
   ]
  },
  {
   "cell_type": "markdown",
   "id": "a06e44a3",
   "metadata": {},
   "source": [
    "### DataFrames - building"
   ]
  },
  {
   "cell_type": "code",
   "execution_count": 10,
   "id": "5c50ad50",
   "metadata": {},
   "outputs": [],
   "source": [
    "# all dataframes of Test 1\n",
    "dataframes_t1 = []\n",
    "# all dataframes of Test 2\n",
    "dataframes_t2 = []\n",
    "\n",
    "for cur_test in datasets[0]:\n",
    "    dataframes_t1.append(testlib.build_df_from_json_files(cur_test))\n",
    "\n",
    "for cur_test in datasets[1]:\n",
    "    dataframes_t2.append(testlib.build_df_from_json_files(cur_test))"
   ]
  },
  {
   "cell_type": "markdown",
   "id": "18d8bba1",
   "metadata": {},
   "source": [
    "### DataFrames - cleaning network noise"
   ]
  },
  {
   "cell_type": "markdown",
   "id": "8e9ac753",
   "metadata": {},
   "source": [
    "For the comparison between the tests we cannot have **SendIP** and **RecvIP** differences."
   ]
  },
  {
   "cell_type": "code",
   "execution_count": 11,
   "id": "256384a6",
   "metadata": {},
   "outputs": [
    {
     "name": "stdout",
     "output_type": "stream",
     "text": [
      "\n",
      "deleting 5 items from function param (df2) - [1788, 2736, 2738, 2943, 3460]\n",
      "\n",
      "\n",
      "deleting 8 items from function param (df2) - [83, 357, 915, 1594, 1874, 1940, 1592, 1593]\n",
      "\n",
      "\n",
      "deleting 1 items from function param (df2) - [1595]\n",
      "\n",
      "\n",
      "deleting 7 items from function param (df2) - [1946, 2259, 3037, 3313, 3887, 2257, 2258]\n",
      "\n",
      "\n",
      "deleting 1 items from function param (df2) - [2260]\n",
      "\n"
     ]
    }
   ],
   "source": [
    "# cleaning network noise for every pair of dataframes\n",
    "for df1, df2 in combinations(dataframes_t1 + dataframes_t2, 2):\n",
    "    testlib.cmpdiff(df1, df2, \"SendIP\")\n",
    "    testlib.cmpdiff(df1, df2, \"RecvIP\")"
   ]
  },
  {
   "cell_type": "markdown",
   "id": "c0b5c717",
   "metadata": {},
   "source": [
    "### DataFrames - sorting by Timestamp"
   ]
  },
  {
   "cell_type": "code",
   "execution_count": 12,
   "id": "90e12558-6733-478c-96b2-580aa7e683db",
   "metadata": {},
   "outputs": [],
   "source": [
    "for df in dataframes_t1 + dataframes_t2:\n",
    "    df.sort_values(\"Timestamp\", inplace=True)"
   ]
  },
  {
   "cell_type": "markdown",
   "id": "fecfa4ce",
   "metadata": {},
   "source": [
    "### DataFrames - generating test Elapsed time"
   ]
  },
  {
   "cell_type": "code",
   "execution_count": 13,
   "id": "5fc46fb4-0d27-45a1-8361-3e24d6e5c4be",
   "metadata": {},
   "outputs": [],
   "source": [
    "for df in dataframes_t1 + dataframes_t2:\n",
    "    df[\"Elapsed\"] = pd.to_datetime((df[\"Timestamp\"] - df[\"Timestamp\"].min()), unit=\"ns\").dt.time"
   ]
  },
  {
   "cell_type": "code",
   "execution_count": 14,
   "id": "cdeddfd5",
   "metadata": {},
   "outputs": [
    {
     "name": "stdout",
     "output_type": "stream",
     "text": [
      "Tests 1m:\n",
      "\n",
      "- Test 1:\n",
      "               Timestamp       SendIP       RecvIP  TimeDelta   Elapsed\n",
      "2757 2022-12-13 14:29:54   172.18.0.6   172.18.0.2   0.000065  00:00:00\n",
      "2756 2022-12-13 14:29:54   172.18.0.2   172.18.0.6   0.000020  00:00:00\n",
      "2762 2022-12-13 14:29:58  172.18.0.10   172.18.0.2   0.000044  00:00:04\n",
      "2761 2022-12-13 14:29:58   172.18.0.2  172.18.0.10   0.000032  00:00:04\n",
      "2760 2022-12-13 14:29:58  172.18.0.10   172.18.0.2   0.000140  00:00:04\n",
      "\n",
      "\n",
      "\n",
      "- Test 2:\n",
      "               Timestamp       SendIP      RecvIP  TimeDelta   Elapsed\n",
      "2720 2022-12-13 14:27:47   172.18.0.4  172.18.0.8   0.000023  00:00:00\n",
      "2719 2022-12-13 14:27:47   172.18.0.8  172.18.0.4   0.000072  00:00:00\n",
      "2718 2022-12-13 14:27:47   172.18.0.4  172.18.0.8   0.000028  00:00:00\n",
      "2725 2022-12-13 14:27:48  172.18.0.10  172.18.0.2   0.000018  00:00:01\n",
      "2724 2022-12-13 14:27:48  172.18.0.10  172.18.0.2   0.000010  00:00:01\n",
      "\n",
      "\n",
      "\n",
      "- Test 3:\n",
      "               Timestamp       SendIP       RecvIP  TimeDelta   Elapsed\n",
      "2737 2022-12-13 14:28:51  172.18.0.10   172.18.0.1   4.053460  00:00:00\n",
      "2741 2022-12-13 14:28:53  172.18.0.10   172.18.0.2   0.000148  00:00:02\n",
      "2740 2022-12-13 14:28:53  172.18.0.10   172.18.0.2   0.000312  00:00:02\n",
      "2739 2022-12-13 14:28:53  172.18.0.10   172.18.0.2   5.003414  00:00:02\n",
      "2742 2022-12-13 14:28:53   172.18.0.2  172.18.0.10   0.000006  00:00:02\n",
      "\n",
      "\n",
      "\n",
      "Tests 2m:\n",
      "\n",
      "- Test 1:\n",
      "               Timestamp       SendIP       RecvIP  TimeDelta   Elapsed\n",
      "3200 2022-12-13 14:33:08  172.18.0.10   172.18.0.2   0.000050  00:00:00\n",
      "3198 2022-12-13 14:33:08   172.18.0.2  172.18.0.10   0.000135  00:00:00\n",
      "3199 2022-12-13 14:33:08  172.18.0.10   172.18.0.2   0.000098  00:00:00\n",
      "3216 2022-12-13 14:33:09   172.18.0.1  172.18.0.13   0.000008  00:00:01\n",
      "3214 2022-12-13 14:33:09   172.18.0.1  172.18.0.13   0.000009  00:00:01\n",
      "\n",
      "\n",
      "\n",
      "- Test 2:\n",
      "               Timestamp       SendIP       RecvIP  TimeDelta   Elapsed\n",
      "3008 2022-12-13 14:31:03  172.18.0.10   172.18.0.2   0.000045  00:00:00\n",
      "3013 2022-12-13 14:31:04  172.18.0.13   172.18.0.1   0.000030  00:00:01\n",
      "3036 2022-12-13 14:31:04   172.18.0.1  172.18.0.13   0.000024  00:00:01\n",
      "3035 2022-12-13 14:31:04  172.18.0.13   172.18.0.1   0.000083  00:00:01\n",
      "3034 2022-12-13 14:31:04   172.18.0.1  172.18.0.13   0.000025  00:00:01\n",
      "\n",
      "\n",
      "\n",
      "- Test 3:\n",
      "               Timestamp       SendIP       RecvIP  TimeDelta   Elapsed\n",
      "2999 2022-12-13 14:35:13  172.18.0.10   172.18.0.2   0.000046  00:00:00\n",
      "3000 2022-12-13 14:35:13   172.18.0.2  172.18.0.10   0.000012  00:00:00\n",
      "3001 2022-12-13 14:35:13  172.18.0.10   172.18.0.2   0.000064  00:00:00\n",
      "3004 2022-12-13 14:35:14   172.18.0.2   172.18.0.6   0.000022  00:00:01\n",
      "3002 2022-12-13 14:35:14   172.18.0.3   172.18.0.7   5.000995  00:00:01\n",
      "\n",
      "\n",
      "\n"
     ]
    }
   ],
   "source": [
    "print(f\"Tests {t1_d}{u1}:\", end='\\n\\n')\n",
    "for i, df in enumerate(dataframes_t1, 1):\n",
    "    print(f\"- Test {i}:\")\n",
    "    print(df.head())\n",
    "    print(\"\\n\\n\")\n",
    "\n",
    "print(f\"Tests {t2_d}{u1}:\", end='\\n\\n')\n",
    "for i, df in enumerate(dataframes_t2, 1):\n",
    "    print(f\"- Test {i}:\")\n",
    "    print(df.head())\n",
    "    print(\"\\n\\n\")"
   ]
  },
  {
   "cell_type": "markdown",
   "id": "edec1ecf",
   "metadata": {},
   "source": [
    "### Statistical descriptions of the data"
   ]
  },
  {
   "cell_type": "markdown",
   "id": "23bfcdfe",
   "metadata": {},
   "source": [
    "#### Test 1m"
   ]
  },
  {
   "cell_type": "code",
   "execution_count": 15,
   "id": "59dc6208-53b5-4d7d-a7e7-6ae9e3c42fac",
   "metadata": {
    "scrolled": false
   },
   "outputs": [
    {
     "data": {
      "text/html": [
       "<th style=\"text-align:center\"><td style=\"vertical-align:top\"><h3 style=\"text-align: center;\">Test 1</h3><br /><table style=\"display:inline\" border=\"1\" class=\"dataframe\">\n",
       "  <thead>\n",
       "    <tr style=\"text-align: right;\">\n",
       "      <th></th>\n",
       "      <th>TimeDelta</th>\n",
       "    </tr>\n",
       "  </thead>\n",
       "  <tbody>\n",
       "    <tr>\n",
       "      <th>count</th>\n",
       "      <td>3.756000e+03</td>\n",
       "    </tr>\n",
       "    <tr>\n",
       "      <th>mean</th>\n",
       "      <td>5.810533e-02</td>\n",
       "    </tr>\n",
       "    <tr>\n",
       "      <th>std</th>\n",
       "      <td>4.251584e-01</td>\n",
       "    </tr>\n",
       "    <tr>\n",
       "      <th>min</th>\n",
       "      <td>4.600000e-08</td>\n",
       "    </tr>\n",
       "    <tr>\n",
       "      <th>25%</th>\n",
       "      <td>3.379375e-05</td>\n",
       "    </tr>\n",
       "    <tr>\n",
       "      <th>50%</th>\n",
       "      <td>1.121180e-04</td>\n",
       "    </tr>\n",
       "    <tr>\n",
       "      <th>75%</th>\n",
       "      <td>5.437490e-04</td>\n",
       "    </tr>\n",
       "    <tr>\n",
       "      <th>max</th>\n",
       "      <td>5.002826e+00</td>\n",
       "    </tr>\n",
       "  </tbody>\n",
       "</table style=\"display:inline\"></td></th><th style=\"text-align:center\"><td style=\"vertical-align:top\"><h3 style=\"text-align: center;\">Test 2</h3><br /><table style=\"display:inline\" border=\"1\" class=\"dataframe\">\n",
       "  <thead>\n",
       "    <tr style=\"text-align: right;\">\n",
       "      <th></th>\n",
       "      <th>TimeDelta</th>\n",
       "    </tr>\n",
       "  </thead>\n",
       "  <tbody>\n",
       "    <tr>\n",
       "      <th>count</th>\n",
       "      <td>3.718000e+03</td>\n",
       "    </tr>\n",
       "    <tr>\n",
       "      <th>mean</th>\n",
       "      <td>6.717640e-02</td>\n",
       "    </tr>\n",
       "    <tr>\n",
       "      <th>std</th>\n",
       "      <td>5.319269e-01</td>\n",
       "    </tr>\n",
       "    <tr>\n",
       "      <th>min</th>\n",
       "      <td>1.000000e-09</td>\n",
       "    </tr>\n",
       "    <tr>\n",
       "      <th>25%</th>\n",
       "      <td>3.507400e-05</td>\n",
       "    </tr>\n",
       "    <tr>\n",
       "      <th>50%</th>\n",
       "      <td>1.152645e-04</td>\n",
       "    </tr>\n",
       "    <tr>\n",
       "      <th>75%</th>\n",
       "      <td>5.666748e-04</td>\n",
       "    </tr>\n",
       "    <tr>\n",
       "      <th>max</th>\n",
       "      <td>1.685312e+01</td>\n",
       "    </tr>\n",
       "  </tbody>\n",
       "</table style=\"display:inline\"></td></th><th style=\"text-align:center\"><td style=\"vertical-align:top\"><h3 style=\"text-align: center;\">Test 3</h3><br /><table style=\"display:inline\" border=\"1\" class=\"dataframe\">\n",
       "  <thead>\n",
       "    <tr style=\"text-align: right;\">\n",
       "      <th></th>\n",
       "      <th>TimeDelta</th>\n",
       "    </tr>\n",
       "  </thead>\n",
       "  <tbody>\n",
       "    <tr>\n",
       "      <th>count</th>\n",
       "      <td>3.731000e+03</td>\n",
       "    </tr>\n",
       "    <tr>\n",
       "      <th>mean</th>\n",
       "      <td>9.025312e-02</td>\n",
       "    </tr>\n",
       "    <tr>\n",
       "      <th>std</th>\n",
       "      <td>9.285420e-01</td>\n",
       "    </tr>\n",
       "    <tr>\n",
       "      <th>min</th>\n",
       "      <td>1.170000e-07</td>\n",
       "    </tr>\n",
       "    <tr>\n",
       "      <th>25%</th>\n",
       "      <td>3.385200e-05</td>\n",
       "    </tr>\n",
       "    <tr>\n",
       "      <th>50%</th>\n",
       "      <td>1.128320e-04</td>\n",
       "    </tr>\n",
       "    <tr>\n",
       "      <th>75%</th>\n",
       "      <td>5.460600e-04</td>\n",
       "    </tr>\n",
       "    <tr>\n",
       "      <th>max</th>\n",
       "      <td>3.242680e+01</td>\n",
       "    </tr>\n",
       "  </tbody>\n",
       "</table style=\"display:inline\"></td></th>"
      ]
     },
     "metadata": {},
     "output_type": "display_data"
    }
   ],
   "source": [
    "display_side_by_side(*[df.describe() for df in dataframes_t1], titles=[f\"Test {i}\" for i, df in enumerate(dataframes_t1, 1)])"
   ]
  },
  {
   "cell_type": "markdown",
   "id": "3b2d5968",
   "metadata": {},
   "source": [
    "#### Test 2m"
   ]
  },
  {
   "cell_type": "code",
   "execution_count": 16,
   "id": "05a821fa",
   "metadata": {
    "scrolled": true
   },
   "outputs": [
    {
     "data": {
      "text/html": [
       "<th style=\"text-align:center\"><td style=\"vertical-align:top\"><h3 style=\"text-align: center;\">Test 1</h3><br /><table style=\"display:inline\" border=\"1\" class=\"dataframe\">\n",
       "  <thead>\n",
       "    <tr style=\"text-align: right;\">\n",
       "      <th></th>\n",
       "      <th>TimeDelta</th>\n",
       "    </tr>\n",
       "  </thead>\n",
       "  <tbody>\n",
       "    <tr>\n",
       "      <th>count</th>\n",
       "      <td>4.198000e+03</td>\n",
       "    </tr>\n",
       "    <tr>\n",
       "      <th>mean</th>\n",
       "      <td>1.176061e-01</td>\n",
       "    </tr>\n",
       "    <tr>\n",
       "      <th>std</th>\n",
       "      <td>6.534965e-01</td>\n",
       "    </tr>\n",
       "    <tr>\n",
       "      <th>min</th>\n",
       "      <td>5.000000e-08</td>\n",
       "    </tr>\n",
       "    <tr>\n",
       "      <th>25%</th>\n",
       "      <td>3.220675e-05</td>\n",
       "    </tr>\n",
       "    <tr>\n",
       "      <th>50%</th>\n",
       "      <td>9.832700e-05</td>\n",
       "    </tr>\n",
       "    <tr>\n",
       "      <th>75%</th>\n",
       "      <td>5.002885e-04</td>\n",
       "    </tr>\n",
       "    <tr>\n",
       "      <th>max</th>\n",
       "      <td>1.685347e+01</td>\n",
       "    </tr>\n",
       "  </tbody>\n",
       "</table style=\"display:inline\"></td></th><th style=\"text-align:center\"><td style=\"vertical-align:top\"><h3 style=\"text-align: center;\">Test 2</h3><br /><table style=\"display:inline\" border=\"1\" class=\"dataframe\">\n",
       "  <thead>\n",
       "    <tr style=\"text-align: right;\">\n",
       "      <th></th>\n",
       "      <th>TimeDelta</th>\n",
       "    </tr>\n",
       "  </thead>\n",
       "  <tbody>\n",
       "    <tr>\n",
       "      <th>count</th>\n",
       "      <td>3.999000e+03</td>\n",
       "    </tr>\n",
       "    <tr>\n",
       "      <th>mean</th>\n",
       "      <td>1.447080e-01</td>\n",
       "    </tr>\n",
       "    <tr>\n",
       "      <th>std</th>\n",
       "      <td>1.025528e+00</td>\n",
       "    </tr>\n",
       "    <tr>\n",
       "      <th>min</th>\n",
       "      <td>2.400000e-08</td>\n",
       "    </tr>\n",
       "    <tr>\n",
       "      <th>25%</th>\n",
       "      <td>3.583200e-05</td>\n",
       "    </tr>\n",
       "    <tr>\n",
       "      <th>50%</th>\n",
       "      <td>1.112230e-04</td>\n",
       "    </tr>\n",
       "    <tr>\n",
       "      <th>75%</th>\n",
       "      <td>5.640300e-04</td>\n",
       "    </tr>\n",
       "    <tr>\n",
       "      <th>max</th>\n",
       "      <td>3.242676e+01</td>\n",
       "    </tr>\n",
       "  </tbody>\n",
       "</table style=\"display:inline\"></td></th><th style=\"text-align:center\"><td style=\"vertical-align:top\"><h3 style=\"text-align: center;\">Test 3</h3><br /><table style=\"display:inline\" border=\"1\" class=\"dataframe\">\n",
       "  <thead>\n",
       "    <tr style=\"text-align: right;\">\n",
       "      <th></th>\n",
       "      <th>TimeDelta</th>\n",
       "    </tr>\n",
       "  </thead>\n",
       "  <tbody>\n",
       "    <tr>\n",
       "      <th>count</th>\n",
       "      <td>3.991000e+03</td>\n",
       "    </tr>\n",
       "    <tr>\n",
       "      <th>mean</th>\n",
       "      <td>1.364458e-01</td>\n",
       "    </tr>\n",
       "    <tr>\n",
       "      <th>std</th>\n",
       "      <td>9.811581e-01</td>\n",
       "    </tr>\n",
       "    <tr>\n",
       "      <th>min</th>\n",
       "      <td>2.000000e-08</td>\n",
       "    </tr>\n",
       "    <tr>\n",
       "      <th>25%</th>\n",
       "      <td>3.236200e-05</td>\n",
       "    </tr>\n",
       "    <tr>\n",
       "      <th>50%</th>\n",
       "      <td>1.039380e-04</td>\n",
       "    </tr>\n",
       "    <tr>\n",
       "      <th>75%</th>\n",
       "      <td>5.274705e-04</td>\n",
       "    </tr>\n",
       "    <tr>\n",
       "      <th>max</th>\n",
       "      <td>3.242671e+01</td>\n",
       "    </tr>\n",
       "  </tbody>\n",
       "</table style=\"display:inline\"></td></th>"
      ]
     },
     "metadata": {},
     "output_type": "display_data"
    }
   ],
   "source": [
    "display_side_by_side(*[df.describe() for df in dataframes_t2], titles=[f\"Test {i}\" for i, df in enumerate(dataframes_t2, 1)])"
   ]
  },
  {
   "cell_type": "markdown",
   "id": "47e39a05",
   "metadata": {},
   "source": [
    "### Confidence interval of the descriptions"
   ]
  },
  {
   "cell_type": "markdown",
   "id": "f96dd7c9",
   "metadata": {},
   "source": [
    "We will use a 95% confidence level"
   ]
  },
  {
   "cell_type": "markdown",
   "id": "f2fbed5f",
   "metadata": {},
   "source": [
    "The 95% confidence interval is a range of values that you can be 95% confident contains the true mean of the population."
   ]
  },
  {
   "cell_type": "markdown",
   "id": "981a4f59",
   "metadata": {},
   "source": [
    "$$\\overline{X} \\pm Z\\frac{S}{\\sqrt{N}}$$"
   ]
  },
  {
   "cell_type": "markdown",
   "id": "4d90b03f",
   "metadata": {},
   "source": [
    "Where:\n",
    "- $\\overline{X}$ is the sample mean\n",
    "- $S$ is the sample standard deviation\n",
    "- $Z$ is the Z-score. For a 95% confidence level is always $1.96$. A Z-score describes the position of a raw score in terms of its distance from the mean, when measured in standard deviation units\n",
    "- $N$ is the sample size"
   ]
  },
  {
   "cell_type": "code",
   "execution_count": 17,
   "id": "db31537e",
   "metadata": {},
   "outputs": [],
   "source": [
    "count_list_t1 = [df.TimeDelta.count() for df in dataframes_t1]\n",
    "mean_list_t1 = [df.TimeDelta.mean() for df in dataframes_t1]\n",
    "std_list_t1 = [df.TimeDelta.std() for df in dataframes_t1]\n",
    "min_list_t1 = [df.TimeDelta.min() for df in dataframes_t1]\n",
    "q_1_list_t1 = [df.TimeDelta.quantile(.25) for df in dataframes_t1]\n",
    "q_2_list_t1 = [df.TimeDelta.quantile(.50) for df in dataframes_t1]\n",
    "q_3_list_t1 = [df.TimeDelta.quantile(.75) for df in dataframes_t1]\n",
    "max_list_t1 = [df.TimeDelta.max() for df in dataframes_t1]\n",
    "\n",
    "count_list_t2 = [df.TimeDelta.count() for df in dataframes_t2]\n",
    "mean_list_t2 = [df.TimeDelta.mean() for df in dataframes_t2]\n",
    "std_list_t2 = [df.TimeDelta.std() for df in dataframes_t2]\n",
    "min_list_t2 = [df.TimeDelta.min() for df in dataframes_t2]\n",
    "q_1_list_t2 = [df.TimeDelta.quantile(.25) for df in dataframes_t2]\n",
    "q_2_list_t2 = [df.TimeDelta.quantile(.50) for df in dataframes_t2]\n",
    "q_3_list_t2 = [df.TimeDelta.quantile(.75) for df in dataframes_t2]\n",
    "max_list_t2 = [df.TimeDelta.max() for df in dataframes_t2]"
   ]
  },
  {
   "cell_type": "code",
   "execution_count": 18,
   "id": "68d0d363",
   "metadata": {},
   "outputs": [
    {
     "name": "stdout",
     "output_type": "stream",
     "text": [
      "Test 1m measures 95% confidence interval:\n",
      "\n",
      "count: (3717.1555062959033, 3752.8444937040967)\n",
      "mean : (0.05653082229354437, 0.08715907639882314)\n",
      "std  : (0.3834776268722436, 0.8736071732194667)\n",
      "min  : (6.305624125389202e-10, 1.087027709207944e-07)\n",
      "q1   : (3.3571968706080026e-05, 3.490786462725331e-05)\n",
      "q2   : (0.0001118806697936585, 0.00011492899687300815)\n",
      "q3   : (0.0005404990599698489, 0.0005638234400301513)\n",
      "max  : (5.386153394145692, 30.80234345718764)\n",
      "\n",
      "\n",
      "\n",
      "Test 2m measures 95% confidence interval:\n",
      "\n",
      "count: (3954.314397825802, 4171.018935507531)\n",
      "mean : (0.12008559454395601, 0.14575431132364813)\n",
      "std  : (0.6989815066868756, 1.0744732272925965)\n",
      "min  : (1.6283013784615485e-08, 4.638365288205118e-08)\n",
      "q1   : (3.157309726520814e-05, 3.536073606812521e-05)\n",
      "q2   : (9.852164428311953e-05, 0.00011047035571688046)\n",
      "q3   : (0.0005010432301389149, 0.0005601494365277519)\n",
      "max  : (18.9281716064029, 35.543122940263764)\n"
     ]
    }
   ],
   "source": [
    "print(f\"Test {t1_d}{u1} measures 95% confidence interval:\", end='\\n\\n')\n",
    "print(f\"count: {testlib.confidence_95_interval(count_list_t1)}\")\n",
    "print(f\"mean : {testlib.confidence_95_interval(mean_list_t1)}\")\n",
    "print(f\"std  : {testlib.confidence_95_interval(std_list_t1)}\")\n",
    "print(f\"min  : {testlib.confidence_95_interval(min_list_t1)}\")\n",
    "print(f\"q1   : {testlib.confidence_95_interval(q_1_list_t1)}\")\n",
    "print(f\"q2   : {testlib.confidence_95_interval(q_2_list_t1)}\")\n",
    "print(f\"q3   : {testlib.confidence_95_interval(q_3_list_t1)}\")\n",
    "print(f\"max  : {testlib.confidence_95_interval(max_list_t1)}\")\n",
    "\n",
    "print(\"\\n\\n\")\n",
    "\n",
    "print(f\"Test {t2_d}{u2} measures 95% confidence interval:\", end='\\n\\n')\n",
    "print(f\"count: {testlib.confidence_95_interval(count_list_t2)}\")\n",
    "print(f\"mean : {testlib.confidence_95_interval(mean_list_t2)}\")\n",
    "print(f\"std  : {testlib.confidence_95_interval(std_list_t2)}\")\n",
    "print(f\"min  : {testlib.confidence_95_interval(min_list_t2)}\")\n",
    "print(f\"q1   : {testlib.confidence_95_interval(q_1_list_t2)}\")\n",
    "print(f\"q2   : {testlib.confidence_95_interval(q_2_list_t2)}\")\n",
    "print(f\"q3   : {testlib.confidence_95_interval(q_3_list_t2)}\")\n",
    "print(f\"max  : {testlib.confidence_95_interval(max_list_t2)}\")"
   ]
  },
  {
   "cell_type": "markdown",
   "id": "3a8f9230",
   "metadata": {},
   "source": [
    "### Dataframes - removing TimeDelta outliers (cleaning network noise)"
   ]
  },
  {
   "cell_type": "code",
   "execution_count": 19,
   "id": "9acccb98-1618-4628-8346-acf1087b0f69",
   "metadata": {},
   "outputs": [],
   "source": [
    "for df in dataframes_t1 + dataframes_t2:\n",
    "    sendIPs = list(set(df[\"SendIP\"]))\n",
    "\n",
    "    for ip in sendIPs:\n",
    "        q3 = df[df.SendIP == ip].TimeDelta.quantile(.75)\n",
    "\n",
    "        idx = list(df[(df.TimeDelta > q3) & (df.SendIP == ip)].index)\n",
    "        df.drop(index=idx, axis=0, inplace=True)"
   ]
  },
  {
   "cell_type": "markdown",
   "id": "60605b09",
   "metadata": {},
   "source": [
    "### Statistical descriptions (post outliers cleaning)"
   ]
  },
  {
   "cell_type": "markdown",
   "id": "2e9cd577",
   "metadata": {},
   "source": [
    "#### Test 1m"
   ]
  },
  {
   "cell_type": "code",
   "execution_count": 20,
   "id": "a56568cf",
   "metadata": {
    "scrolled": true
   },
   "outputs": [
    {
     "data": {
      "text/html": [
       "<th style=\"text-align:center\"><td style=\"vertical-align:top\"><h3 style=\"text-align: center;\">Test 1</h3><br /><table style=\"display:inline\" border=\"1\" class=\"dataframe\">\n",
       "  <thead>\n",
       "    <tr style=\"text-align: right;\">\n",
       "      <th></th>\n",
       "      <th>TimeDelta</th>\n",
       "    </tr>\n",
       "  </thead>\n",
       "  <tbody>\n",
       "    <tr>\n",
       "      <th>count</th>\n",
       "      <td>2.815000e+03</td>\n",
       "    </tr>\n",
       "    <tr>\n",
       "      <th>mean</th>\n",
       "      <td>1.035306e-02</td>\n",
       "    </tr>\n",
       "    <tr>\n",
       "      <th>std</th>\n",
       "      <td>1.156278e-01</td>\n",
       "    </tr>\n",
       "    <tr>\n",
       "      <th>min</th>\n",
       "      <td>4.600000e-08</td>\n",
       "    </tr>\n",
       "    <tr>\n",
       "      <th>25%</th>\n",
       "      <td>2.608900e-05</td>\n",
       "    </tr>\n",
       "    <tr>\n",
       "      <th>50%</th>\n",
       "      <td>6.477200e-05</td>\n",
       "    </tr>\n",
       "    <tr>\n",
       "      <th>75%</th>\n",
       "      <td>1.469515e-04</td>\n",
       "    </tr>\n",
       "    <tr>\n",
       "      <th>max</th>\n",
       "      <td>5.000437e+00</td>\n",
       "    </tr>\n",
       "  </tbody>\n",
       "</table style=\"display:inline\"></td></th><th style=\"text-align:center\"><td style=\"vertical-align:top\"><h3 style=\"text-align: center;\">Test 2</h3><br /><table style=\"display:inline\" border=\"1\" class=\"dataframe\">\n",
       "  <thead>\n",
       "    <tr style=\"text-align: right;\">\n",
       "      <th></th>\n",
       "      <th>TimeDelta</th>\n",
       "    </tr>\n",
       "  </thead>\n",
       "  <tbody>\n",
       "    <tr>\n",
       "      <th>count</th>\n",
       "      <td>2.786000e+03</td>\n",
       "    </tr>\n",
       "    <tr>\n",
       "      <th>mean</th>\n",
       "      <td>1.125645e-02</td>\n",
       "    </tr>\n",
       "    <tr>\n",
       "      <th>std</th>\n",
       "      <td>1.201341e-01</td>\n",
       "    </tr>\n",
       "    <tr>\n",
       "      <th>min</th>\n",
       "      <td>1.000000e-09</td>\n",
       "    </tr>\n",
       "    <tr>\n",
       "      <th>25%</th>\n",
       "      <td>2.691975e-05</td>\n",
       "    </tr>\n",
       "    <tr>\n",
       "      <th>50%</th>\n",
       "      <td>6.910000e-05</td>\n",
       "    </tr>\n",
       "    <tr>\n",
       "      <th>75%</th>\n",
       "      <td>1.554975e-04</td>\n",
       "    </tr>\n",
       "    <tr>\n",
       "      <th>max</th>\n",
       "      <td>5.000511e+00</td>\n",
       "    </tr>\n",
       "  </tbody>\n",
       "</table style=\"display:inline\"></td></th><th style=\"text-align:center\"><td style=\"vertical-align:top\"><h3 style=\"text-align: center;\">Test 3</h3><br /><table style=\"display:inline\" border=\"1\" class=\"dataframe\">\n",
       "  <thead>\n",
       "    <tr style=\"text-align: right;\">\n",
       "      <th></th>\n",
       "      <th>TimeDelta</th>\n",
       "    </tr>\n",
       "  </thead>\n",
       "  <tbody>\n",
       "    <tr>\n",
       "      <th>count</th>\n",
       "      <td>2.797000e+03</td>\n",
       "    </tr>\n",
       "    <tr>\n",
       "      <th>mean</th>\n",
       "      <td>1.551787e-02</td>\n",
       "    </tr>\n",
       "    <tr>\n",
       "      <th>std</th>\n",
       "      <td>1.928571e-01</td>\n",
       "    </tr>\n",
       "    <tr>\n",
       "      <th>min</th>\n",
       "      <td>1.170000e-07</td>\n",
       "    </tr>\n",
       "    <tr>\n",
       "      <th>25%</th>\n",
       "      <td>2.639800e-05</td>\n",
       "    </tr>\n",
       "    <tr>\n",
       "      <th>50%</th>\n",
       "      <td>6.362500e-05</td>\n",
       "    </tr>\n",
       "    <tr>\n",
       "      <th>75%</th>\n",
       "      <td>1.476210e-04</td>\n",
       "    </tr>\n",
       "    <tr>\n",
       "      <th>max</th>\n",
       "      <td>5.001233e+00</td>\n",
       "    </tr>\n",
       "  </tbody>\n",
       "</table style=\"display:inline\"></td></th>"
      ]
     },
     "metadata": {},
     "output_type": "display_data"
    }
   ],
   "source": [
    "display_side_by_side(*[df.describe() for df in dataframes_t1], titles=[f\"Test {i}\" for i, df in enumerate(dataframes_t1, 1)])"
   ]
  },
  {
   "cell_type": "markdown",
   "id": "77a4d3a3",
   "metadata": {},
   "source": [
    "#### Test 2m"
   ]
  },
  {
   "cell_type": "code",
   "execution_count": 21,
   "id": "7068cf67",
   "metadata": {},
   "outputs": [
    {
     "data": {
      "text/html": [
       "<th style=\"text-align:center\"><td style=\"vertical-align:top\"><h3 style=\"text-align: center;\">Test 1</h3><br /><table style=\"display:inline\" border=\"1\" class=\"dataframe\">\n",
       "  <thead>\n",
       "    <tr style=\"text-align: right;\">\n",
       "      <th></th>\n",
       "      <th>TimeDelta</th>\n",
       "    </tr>\n",
       "  </thead>\n",
       "  <tbody>\n",
       "    <tr>\n",
       "      <th>count</th>\n",
       "      <td>3.148000e+03</td>\n",
       "    </tr>\n",
       "    <tr>\n",
       "      <th>mean</th>\n",
       "      <td>1.939897e-02</td>\n",
       "    </tr>\n",
       "    <tr>\n",
       "      <th>std</th>\n",
       "      <td>1.995268e-01</td>\n",
       "    </tr>\n",
       "    <tr>\n",
       "      <th>min</th>\n",
       "      <td>5.000000e-08</td>\n",
       "    </tr>\n",
       "    <tr>\n",
       "      <th>25%</th>\n",
       "      <td>2.501700e-05</td>\n",
       "    </tr>\n",
       "    <tr>\n",
       "      <th>50%</th>\n",
       "      <td>5.834250e-05</td>\n",
       "    </tr>\n",
       "    <tr>\n",
       "      <th>75%</th>\n",
       "      <td>1.275205e-04</td>\n",
       "    </tr>\n",
       "    <tr>\n",
       "      <th>max</th>\n",
       "      <td>5.000805e+00</td>\n",
       "    </tr>\n",
       "  </tbody>\n",
       "</table style=\"display:inline\"></td></th><th style=\"text-align:center\"><td style=\"vertical-align:top\"><h3 style=\"text-align: center;\">Test 2</h3><br /><table style=\"display:inline\" border=\"1\" class=\"dataframe\">\n",
       "  <thead>\n",
       "    <tr style=\"text-align: right;\">\n",
       "      <th></th>\n",
       "      <th>TimeDelta</th>\n",
       "    </tr>\n",
       "  </thead>\n",
       "  <tbody>\n",
       "    <tr>\n",
       "      <th>count</th>\n",
       "      <td>2.998000e+03</td>\n",
       "    </tr>\n",
       "    <tr>\n",
       "      <th>mean</th>\n",
       "      <td>2.582699e-02</td>\n",
       "    </tr>\n",
       "    <tr>\n",
       "      <th>std</th>\n",
       "      <td>2.347435e-01</td>\n",
       "    </tr>\n",
       "    <tr>\n",
       "      <th>min</th>\n",
       "      <td>2.400000e-08</td>\n",
       "    </tr>\n",
       "    <tr>\n",
       "      <th>25%</th>\n",
       "      <td>2.770900e-05</td>\n",
       "    </tr>\n",
       "    <tr>\n",
       "      <th>50%</th>\n",
       "      <td>6.829750e-05</td>\n",
       "    </tr>\n",
       "    <tr>\n",
       "      <th>75%</th>\n",
       "      <td>1.471783e-04</td>\n",
       "    </tr>\n",
       "    <tr>\n",
       "      <th>max</th>\n",
       "      <td>5.000815e+00</td>\n",
       "    </tr>\n",
       "  </tbody>\n",
       "</table style=\"display:inline\"></td></th><th style=\"text-align:center\"><td style=\"vertical-align:top\"><h3 style=\"text-align: center;\">Test 3</h3><br /><table style=\"display:inline\" border=\"1\" class=\"dataframe\">\n",
       "  <thead>\n",
       "    <tr style=\"text-align: right;\">\n",
       "      <th></th>\n",
       "      <th>TimeDelta</th>\n",
       "    </tr>\n",
       "  </thead>\n",
       "  <tbody>\n",
       "    <tr>\n",
       "      <th>count</th>\n",
       "      <td>2.993000e+03</td>\n",
       "    </tr>\n",
       "    <tr>\n",
       "      <th>mean</th>\n",
       "      <td>2.575475e-02</td>\n",
       "    </tr>\n",
       "    <tr>\n",
       "      <th>std</th>\n",
       "      <td>2.381092e-01</td>\n",
       "    </tr>\n",
       "    <tr>\n",
       "      <th>min</th>\n",
       "      <td>2.000000e-08</td>\n",
       "    </tr>\n",
       "    <tr>\n",
       "      <th>25%</th>\n",
       "      <td>2.554300e-05</td>\n",
       "    </tr>\n",
       "    <tr>\n",
       "      <th>50%</th>\n",
       "      <td>6.088800e-05</td>\n",
       "    </tr>\n",
       "    <tr>\n",
       "      <th>75%</th>\n",
       "      <td>1.470800e-04</td>\n",
       "    </tr>\n",
       "    <tr>\n",
       "      <th>max</th>\n",
       "      <td>5.000828e+00</td>\n",
       "    </tr>\n",
       "  </tbody>\n",
       "</table style=\"display:inline\"></td></th>"
      ]
     },
     "metadata": {},
     "output_type": "display_data"
    }
   ],
   "source": [
    "display_side_by_side(*[df.describe() for df in dataframes_t2], titles=[f\"Test {i}\" for i, df in enumerate(dataframes_t2, 1)])"
   ]
  },
  {
   "cell_type": "markdown",
   "id": "8770c097",
   "metadata": {},
   "source": [
    "### Confidence intervals of the descriptions (post outliers cleaning)"
   ]
  },
  {
   "cell_type": "code",
   "execution_count": 22,
   "id": "e51cc199",
   "metadata": {},
   "outputs": [],
   "source": [
    "count_list_t1 = [df.TimeDelta.count() for df in dataframes_t1]\n",
    "mean_list_t1 = [df.TimeDelta.mean() for df in dataframes_t1]\n",
    "std_list_t1 = [df.TimeDelta.std() for df in dataframes_t1]\n",
    "min_list_t1 = [df.TimeDelta.min() for df in dataframes_t1]\n",
    "q_1_list_t1 = [df.TimeDelta.quantile(.25) for df in dataframes_t1]\n",
    "q_2_list_t1 = [df.TimeDelta.quantile(.50) for df in dataframes_t1]\n",
    "q_3_list_t1 = [df.TimeDelta.quantile(.75) for df in dataframes_t1]\n",
    "max_list_t1 = [df.TimeDelta.max() for df in dataframes_t1]\n",
    "\n",
    "count_list_t2 = [df.TimeDelta.count() for df in dataframes_t2]\n",
    "mean_list_t2 = [df.TimeDelta.mean() for df in dataframes_t2]\n",
    "std_list_t2 = [df.TimeDelta.std() for df in dataframes_t2]\n",
    "min_list_t2 = [df.TimeDelta.min() for df in dataframes_t2]\n",
    "q_1_list_t2 = [df.TimeDelta.quantile(.25) for df in dataframes_t2]\n",
    "q_2_list_t2 = [df.TimeDelta.quantile(.50) for df in dataframes_t2]\n",
    "q_3_list_t2 = [df.TimeDelta.quantile(.75) for df in dataframes_t2]\n",
    "max_list_t2 = [df.TimeDelta.max() for df in dataframes_t2]"
   ]
  },
  {
   "cell_type": "code",
   "execution_count": 23,
   "id": "d6b777a3",
   "metadata": {},
   "outputs": [
    {
     "name": "stdout",
     "output_type": "stream",
     "text": [
      "Test 1m measures 95% confidence interval:\n",
      "\n",
      "count: (2785.806545644263, 2812.8601210224037)\n",
      "mean : (0.00982720837004644, 0.014924378087754852)\n",
      "std  : (0.10282321296034894, 0.18292278723512764)\n",
      "min  : (6.305624125389202e-10, 1.087027709207944e-07)\n",
      "q1   : (2.608095737520733e-05, 2.6856875958126003e-05)\n",
      "q2   : (6.316450263163607e-05, 6.850016403503058e-05)\n",
      "q3   : (0.00014563218157014884, 0.00015441448509651785)\n",
      "max  : (5.000320913033221, 5.0011335249667805)\n",
      "\n",
      "\n",
      "\n",
      "Test 2m measures 95% confidence interval:\n",
      "\n",
      "count: (2964.950270212295, 3127.716396454372)\n",
      "mean : (0.020250351005562137, 0.027070124853786234)\n",
      "std  : (0.20438136224133516, 0.24387167878872149)\n",
      "min  : (1.6283013784615485e-08, 4.638365288205118e-08)\n",
      "q1   : (2.477134123062346e-05, 2.7407992102709877e-05)\n",
      "q2   : (5.7730875702206534e-05, 6.728779096446016e-05)\n",
      "q3   : (0.0001301327063467689, 0.00015105312698656447)\n",
      "max  : (5.000805527961691, 5.000826764704976)\n"
     ]
    }
   ],
   "source": [
    "print(f\"Test {t1_d}{u1} measures 95% confidence interval:\", end='\\n\\n')\n",
    "print(f\"count: {testlib.confidence_95_interval(count_list_t1)}\")\n",
    "print(f\"mean : {testlib.confidence_95_interval(mean_list_t1)}\")\n",
    "print(f\"std  : {testlib.confidence_95_interval(std_list_t1)}\")\n",
    "print(f\"min  : {testlib.confidence_95_interval(min_list_t1)}\")\n",
    "print(f\"q1   : {testlib.confidence_95_interval(q_1_list_t1)}\")\n",
    "print(f\"q2   : {testlib.confidence_95_interval(q_2_list_t1)}\")\n",
    "print(f\"q3   : {testlib.confidence_95_interval(q_3_list_t1)}\")\n",
    "print(f\"max  : {testlib.confidence_95_interval(max_list_t1)}\")\n",
    "\n",
    "print(\"\\n\\n\")\n",
    "\n",
    "print(f\"Test {t2_d}{u2} measures 95% confidence interval:\", end='\\n\\n')\n",
    "print(f\"count: {testlib.confidence_95_interval(count_list_t2)}\")\n",
    "print(f\"mean : {testlib.confidence_95_interval(mean_list_t2)}\")\n",
    "print(f\"std  : {testlib.confidence_95_interval(std_list_t2)}\")\n",
    "print(f\"min  : {testlib.confidence_95_interval(min_list_t2)}\")\n",
    "print(f\"q1   : {testlib.confidence_95_interval(q_1_list_t2)}\")\n",
    "print(f\"q2   : {testlib.confidence_95_interval(q_2_list_t2)}\")\n",
    "print(f\"q3   : {testlib.confidence_95_interval(q_3_list_t2)}\")\n",
    "print(f\"max  : {testlib.confidence_95_interval(max_list_t2)}\")"
   ]
  },
  {
   "cell_type": "markdown",
   "id": "e566c646",
   "metadata": {},
   "source": [
    "### Plots\n",
    "\n",
    "- On each line there is an **IP**\n",
    "- On the **y-axis** we have the **delta time** of the **responses** (*TimeDelta* dataframe column)\n",
    "- On the **x-axis** we have the **duration** of the **test** (*Elapsed* dataframe column)\n",
    "- All scales are expressed in **seconds**"
   ]
  },
  {
   "cell_type": "code",
   "execution_count": 24,
   "id": "cf099d42",
   "metadata": {
    "scrolled": false
   },
   "outputs": [],
   "source": [
    "# plt.rcParams[\"figure.facecolor\"] = (1.0, 1.0, 1.0, 1.0)\n",
    "# plt.rcParams[\"axes.facecolor\"] = (1.0, 1.0, 1.0, 1.0)\n",
    "# plt.rcParams[\"figure.figsize\"] = (20, 60)\n",
    "# plt.rcParams[\"figure.dpi\"] = 200\n",
    "# plt.rcParams[\"figure.autolayout\"] = True\n",
    "\n",
    "# p = 1\n",
    "# for df in dataframes:\n",
    "#     print(f\"Plot {p}:\")\n",
    "#     sendIPs = list(set(df[\"SendIP\"]))\n",
    "#     fg, ax = plt.subplots(nrows=len(sendIPs), ncols=1)\n",
    "#     row = 0\n",
    "    \n",
    "#     for ip in sendIPs:\n",
    "#         df[df[\"SendIP\"] == ip].plot(\n",
    "#             x=\"Elapsed\",\n",
    "#             y=\"TimeDelta\",\n",
    "#             ax=ax[row],\n",
    "#             title=f\"{ip}: {test_duration}{unit} test\",\n",
    "#         )\n",
    "        \n",
    "#         row += 1\n",
    "\n",
    "#     fg.tight_layout()\n",
    "\n",
    "#     #plt.savefig(f\"robotshop-30m-10m-3600r-cmp-plot-{p}.png\")\n",
    "#     plt.show()\n",
    "#     p = p + 1\n",
    "#     print(\"\\n\\n\\n\")"
   ]
  }
 ],
 "metadata": {
  "kernelspec": {
   "display_name": "Python 3 (ipykernel)",
   "language": "python",
   "name": "python3"
  },
  "language_info": {
   "codemirror_mode": {
    "name": "ipython",
    "version": 3
   },
   "file_extension": ".py",
   "mimetype": "text/x-python",
   "name": "python",
   "nbconvert_exporter": "python",
   "pygments_lexer": "ipython3",
   "version": "3.10.8"
  },
  "vscode": {
   "interpreter": {
    "hash": "009d594d5fc75ee588402da9091b48a99d5616f84efbbd64c34fbc75af199597"
   }
  }
 },
 "nbformat": 4,
 "nbformat_minor": 5
}
