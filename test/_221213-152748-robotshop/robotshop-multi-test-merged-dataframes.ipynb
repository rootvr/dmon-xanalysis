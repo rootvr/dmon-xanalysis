{
 "cells": [
  {
   "cell_type": "markdown",
   "id": "ba9dfe35",
   "metadata": {},
   "source": [
    "# Test analysis"
   ]
  },
  {
   "cell_type": "markdown",
   "id": "488a685d",
   "metadata": {},
   "source": [
    "Statistical analysis merged-dataframes for 10 5 minute tests of the **Robot-Shop** application"
   ]
  },
  {
   "cell_type": "markdown",
   "id": "48e47889",
   "metadata": {},
   "source": [
    "### Workloads\n",
    "\n",
    "- **5 minute test**:\n",
    "    - Single API request\n",
    "    - Simulated day length: 300 seconds = 5 minutes\n",
    "    - 20 requests per second\n",
    "    - About 6000 total requests (without considering network noise)\n"
   ]
  },
  {
   "cell_type": "markdown",
   "id": "713bfb06",
   "metadata": {},
   "source": [
    "### Imports"
   ]
  },
  {
   "cell_type": "code",
   "execution_count": 1,
   "id": "a81e2de4-6034-4fb4-b306-936208c87bc0",
   "metadata": {},
   "outputs": [],
   "source": [
    "# standard modules\n",
    "import os\n",
    "\n",
    "# third-party modules\n",
    "import matplotlib.pyplot as plt\n",
    "import pandas as pd\n",
    "import itertools\n",
    "\n",
    "# from IPython.display import display"
   ]
  },
  {
   "cell_type": "markdown",
   "id": "ef4ccabe",
   "metadata": {},
   "source": [
    "### Configs"
   ]
  },
  {
   "cell_type": "code",
   "execution_count": 2,
   "id": "32bc53cb-2820-486b-9d5c-415b571d4e2c",
   "metadata": {},
   "outputs": [],
   "source": [
    "# matplotlib configs\n",
    "# plt.rcParams[\"figure.facecolor\"] = (1.0, 1.0, 1.0, 1.0)\n",
    "# plt.rcParams[\"axes.facecolor\"] = (1.0, 1.0, 1.0, 1.0)\n",
    "# plt.rcParams[\"axes.spines.top\"] = False\n",
    "# plt.rcParams[\"axes.spines.bottom\"] = False\n",
    "# plt.rcParams[\"axes.spines.left\"] = False\n",
    "# plt.rcParams[\"axes.spines.right\"] = False\n",
    "# plt.rcParams[\"xtick.top\"] = False\n",
    "# plt.rcParams[\"xtick.bottom\"] = False\n",
    "# plt.rcParams[\"ytick.left\"] = False\n",
    "# plt.rcParams[\"ytick.right\"] = False\n",
    "# plt.rcParams[\"xtick.labeltop\"] = False\n",
    "# plt.rcParams[\"xtick.labelbottom\"] = False\n",
    "# plt.rcParams[\"ytick.labelleft\"] = False\n",
    "# plt.rcParams[\"ytick.labelright\"] = False\n",
    "# plt.rcParams[\"legend.framealpha\"] = 0.0\n",
    "# plt.rcParams[\"legend.fontsize\"] = 20\n",
    "# plt.rcParams[\"legend.handlelength\"] = 0\n",
    "# plt.rcParams[\"legend.handletextpad\"] = 0\n",
    "\n",
    "# pandas configs\n",
    "pd.set_option(\"display.max_column\", None)\n",
    "pd.set_option(\"display.max_rows\", None)\n",
    "pd.set_option(\"display.max_seq_items\", None)\n",
    "pd.set_option(\"display.max_colwidth\", None)\n",
    "pd.set_option(\"expand_frame_repr\", True)\n",
    "\n",
    "# display width\n",
    "size = None"
   ]
  },
  {
   "cell_type": "markdown",
   "id": "03aad93e",
   "metadata": {},
   "source": [
    "### Datasets - import"
   ]
  },
  {
   "cell_type": "code",
   "execution_count": 3,
   "id": "b0dd3318",
   "metadata": {},
   "outputs": [],
   "source": [
    "# test description\n",
    "test_duration = 5\n",
    "unit = 'm'"
   ]
  },
  {
   "cell_type": "code",
   "execution_count": 4,
   "id": "babba7a3-0c88-4eaf-b548-289a33bd30fd",
   "metadata": {},
   "outputs": [],
   "source": [
    "p = os.path.abspath(\"data\")\n",
    "d = [os.path.join(p, d) + f\"/data/{test_duration}{unit}\" for d in os.listdir(p)]\n",
    "f = [[os.path.join(p, e, f) for f in os.listdir(e)] for e in d]"
   ]
  },
  {
   "cell_type": "markdown",
   "id": "a06e44a3",
   "metadata": {},
   "source": [
    "### DataFrames - building"
   ]
  },
  {
   "cell_type": "code",
   "execution_count": 5,
   "id": "8d2c9d61-4a61-43d2-a753-5132ac2f283c",
   "metadata": {},
   "outputs": [],
   "source": [
    "def build_df_from_json_files(f):\n",
    "    df1 = [pd.DataFrame(pd.read_json(j)) for j in f]\n",
    "\n",
    "    for i, df in enumerate(df1):\n",
    "        df.drop(\"Type\", axis=1, inplace=True)\n",
    "        df.drop(\"SubType\", axis=1, inplace=True)\n",
    "        df.drop(\"Protocol\", axis=1, inplace=True)\n",
    "        \n",
    "        df1[i] = df\n",
    "\n",
    "    if len(df1) > 1:\n",
    "        df1 = pd.concat(df1)\n",
    "    else:\n",
    "        df1 = df1[0]\n",
    "\n",
    "    df1.reset_index(inplace=True)\n",
    "    df1.drop(\"index\", axis=1, inplace=True)\n",
    "    df1['Timestamp'] = df1['Timestamp'].dt.strftime('%Y-%m-%d %H:%M:%S')\n",
    "    df1['Timestamp'] = pd.to_datetime(df1['Timestamp'])\n",
    "    \n",
    "    return df1"
   ]
  },
  {
   "cell_type": "code",
   "execution_count": 6,
   "id": "4e4385df",
   "metadata": {},
   "outputs": [],
   "source": [
    "dataframes = []\n",
    "\n",
    "for tests in f:\n",
    "    dataframes.append(build_df_from_json_files(tests))"
   ]
  },
  {
   "cell_type": "markdown",
   "id": "464413fc",
   "metadata": {},
   "source": [
    "### DataFrames - cleaning network noise"
   ]
  },
  {
   "cell_type": "markdown",
   "id": "0bd24a12",
   "metadata": {},
   "source": [
    "For the comparison between the tests we cannot have **SendIP** and **RecvIP** differences."
   ]
  },
  {
   "cell_type": "code",
   "execution_count": 7,
   "id": "60353758",
   "metadata": {},
   "outputs": [],
   "source": [
    "def cmpdiff(df1, df2, key):\n",
    "    ip1 = set(df1[key])\n",
    "    ip2 = set(df2[key])\n",
    "    \n",
    "    if (ip1 != ip2):\n",
    "        diff12 = ip1.difference(ip2)\n",
    "        diff21 = ip2.difference(ip1)\n",
    "\n",
    "        # df1\n",
    "        if (len(diff12)):\n",
    "            delidx = []\n",
    "            for el in diff12:\n",
    "                delidx += list(df1[df1[key] == el].index)\n",
    "            print(\"deleting %d items from function param (df1) - %s\" % (len(delidx), delidx))\n",
    "            df1.drop(index=delidx, axis=0, inplace=True)\n",
    "        \n",
    "        # df2\n",
    "        if (len(diff21)):\n",
    "            delidx = []\n",
    "            for el in diff21:\n",
    "                delidx += list(df2[df2[key] == el].index)\n",
    "            print(\"deleting %d items from function param (df2) - %s\" % (len(delidx), delidx))\n",
    "            df2.drop(index=delidx, axis=0, inplace=True)"
   ]
  },
  {
   "cell_type": "code",
   "execution_count": 8,
   "id": "683cc375",
   "metadata": {},
   "outputs": [
    {
     "name": "stdout",
     "output_type": "stream",
     "text": [
      "deleting 2 items from function param (df1) - [21683, 21684]\n",
      "deleting 2 items from function param (df2) - [12180, 12181]\n",
      "deleting 2 items from function param (df2) - [13941, 13942]\n",
      "deleting 2 items from function param (df2) - [29473, 29474]\n",
      "deleting 2 items from function param (df2) - [4639, 4640]\n",
      "deleting 2 items from function param (df2) - [24756, 24757]\n",
      "deleting 2 items from function param (df2) - [4950, 4951]\n",
      "deleting 142 items from function param (df2) - [12552, 12554, 12555, 12558, 12560, 12562, 12564, 12566, 12568, 12570, 12577, 12578, 12580, 12582, 12670, 12671, 12673, 12675, 12677, 12678, 12681, 12683, 12685, 12687, 12689, 12691, 12693, 12700, 12729, 12731, 12732, 12733, 12735, 12736, 12739, 12741, 12743, 12745, 12747, 12749, 12751, 12758, 20552, 20553, 20555, 20557, 20559, 20560, 20563, 20565, 20567, 20569, 20571, 20573, 20575, 20582, 23471, 23472, 23474, 23476, 23478, 23479, 23482, 23484, 23486, 23488, 23490, 23492, 23494, 23501, 23535, 23536, 23538, 23540, 23542, 23543, 23546, 23548, 23550, 23552, 23554, 23556, 23558, 23565, 24019, 24020, 24022, 24024, 24026, 24027, 24030, 24032, 24034, 24036, 24038, 24040, 24042, 24049, 24239, 24240, 24242, 24244, 24246, 24247, 24250, 24252, 24254, 24256, 24258, 24260, 24262, 24269, 24280, 24281, 24283, 24285, 24287, 24289, 24296, 24298, 24300, 24302, 24304, 24306, 24308, 24310, 24321, 24322, 24324, 24326, 24328, 24329, 24332, 24334, 24336, 24339, 24342, 24347, 24349, 24351, 23779, 23780]\n",
      "deleting 121 items from function param (df2) - [12551, 12553, 12556, 12557, 12559, 12561, 12563, 12565, 12567, 12569, 12571, 12579, 12581, 12672, 12674, 12676, 12679, 12680, 12682, 12684, 12686, 12688, 12690, 12692, 12694, 12728, 12730, 12734, 12737, 12738, 12740, 12742, 12744, 12746, 12748, 12750, 12752, 20554, 20556, 20558, 20561, 20562, 20564, 20566, 20568, 20570, 20572, 20574, 20576, 23473, 23475, 23477, 23480, 23481, 23483, 23485, 23487, 23489, 23491, 23493, 23495, 23537, 23539, 23541, 23544, 23545, 23547, 23549, 23551, 23553, 23555, 23557, 23559, 24021, 24023, 24025, 24028, 24029, 24031, 24033, 24035, 24037, 24039, 24041, 24043, 24241, 24243, 24245, 24248, 24249, 24251, 24253, 24255, 24257, 24259, 24261, 24263, 24282, 24284, 24286, 24290, 24293, 24297, 24299, 24301, 24303, 24305, 24307, 24309, 24323, 24325, 24327, 24330, 24331, 24333, 24335, 24337, 24340, 24346, 24348, 24350]\n",
      "deleting 2 items from function param (df1) - [25148, 25149]\n"
     ]
    }
   ],
   "source": [
    "# cleaning network noise for every couple of dataframes\n",
    "for df1, df2 in itertools.combinations(dataframes, 2):\n",
    "    cmpdiff(df1, df2, \"SendIP\")\n",
    "    cmpdiff(df1, df2, \"RecvIP\")"
   ]
  },
  {
   "cell_type": "markdown",
   "id": "f6e96173",
   "metadata": {},
   "source": [
    "### DataFrames - concatenation"
   ]
  },
  {
   "cell_type": "code",
   "execution_count": 9,
   "id": "201eac79",
   "metadata": {},
   "outputs": [],
   "source": [
    "def concat_tests(df_array):\n",
    "    return pd.concat(df_array)"
   ]
  },
  {
   "cell_type": "code",
   "execution_count": 10,
   "id": "06d11d07",
   "metadata": {
    "scrolled": true
   },
   "outputs": [],
   "source": [
    "df_test = concat_tests(dataframes)\n",
    "\n",
    "df_test.reset_index(inplace=True)\n",
    "\n",
    "df_test.drop(\"index\", axis=1, inplace=True)"
   ]
  },
  {
   "cell_type": "markdown",
   "id": "a4df8260",
   "metadata": {},
   "source": [
    "### DataFrames - generating test Elapsed time"
   ]
  },
  {
   "cell_type": "code",
   "execution_count": 11,
   "id": "d98dc98f",
   "metadata": {},
   "outputs": [],
   "source": [
    "df_test[\"Elapsed\"] = pd.to_datetime((df_test[\"Timestamp\"] - df_test[\"Timestamp\"].min()), unit=\"ns\").dt.time"
   ]
  },
  {
   "cell_type": "code",
   "execution_count": 12,
   "id": "bb1acfac",
   "metadata": {},
   "outputs": [
    {
     "data": {
      "text/html": [
       "<div>\n",
       "<style scoped>\n",
       "    .dataframe tbody tr th:only-of-type {\n",
       "        vertical-align: middle;\n",
       "    }\n",
       "\n",
       "    .dataframe tbody tr th {\n",
       "        vertical-align: top;\n",
       "    }\n",
       "\n",
       "    .dataframe thead th {\n",
       "        text-align: right;\n",
       "    }\n",
       "</style>\n",
       "<table border=\"1\" class=\"dataframe\">\n",
       "  <thead>\n",
       "    <tr style=\"text-align: right;\">\n",
       "      <th></th>\n",
       "      <th>Timestamp</th>\n",
       "      <th>SendIP</th>\n",
       "      <th>RecvIP</th>\n",
       "      <th>TimeDelta</th>\n",
       "      <th>Elapsed</th>\n",
       "    </tr>\n",
       "  </thead>\n",
       "  <tbody>\n",
       "    <tr>\n",
       "      <th>0</th>\n",
       "      <td>2022-12-08 12:24:59</td>\n",
       "      <td>172.18.0.1</td>\n",
       "      <td>172.18.0.13</td>\n",
       "      <td>0.000104</td>\n",
       "      <td>00:11:46</td>\n",
       "    </tr>\n",
       "    <tr>\n",
       "      <th>1</th>\n",
       "      <td>2022-12-08 12:25:00</td>\n",
       "      <td>172.18.0.1</td>\n",
       "      <td>172.18.0.13</td>\n",
       "      <td>0.049037</td>\n",
       "      <td>00:11:47</td>\n",
       "    </tr>\n",
       "    <tr>\n",
       "      <th>2</th>\n",
       "      <td>2022-12-08 12:25:00</td>\n",
       "      <td>172.18.0.13</td>\n",
       "      <td>172.18.0.1</td>\n",
       "      <td>0.000226</td>\n",
       "      <td>00:11:47</td>\n",
       "    </tr>\n",
       "    <tr>\n",
       "      <th>3</th>\n",
       "      <td>2022-12-08 12:25:00</td>\n",
       "      <td>172.18.0.13</td>\n",
       "      <td>172.18.0.1</td>\n",
       "      <td>0.000045</td>\n",
       "      <td>00:11:47</td>\n",
       "    </tr>\n",
       "    <tr>\n",
       "      <th>4</th>\n",
       "      <td>2022-12-08 12:25:00</td>\n",
       "      <td>172.18.0.13</td>\n",
       "      <td>172.18.0.1</td>\n",
       "      <td>0.000009</td>\n",
       "      <td>00:11:47</td>\n",
       "    </tr>\n",
       "  </tbody>\n",
       "</table>\n",
       "</div>"
      ],
      "text/plain": [
       "            Timestamp       SendIP       RecvIP  TimeDelta   Elapsed\n",
       "0 2022-12-08 12:24:59   172.18.0.1  172.18.0.13   0.000104  00:11:46\n",
       "1 2022-12-08 12:25:00   172.18.0.1  172.18.0.13   0.049037  00:11:47\n",
       "2 2022-12-08 12:25:00  172.18.0.13   172.18.0.1   0.000226  00:11:47\n",
       "3 2022-12-08 12:25:00  172.18.0.13   172.18.0.1   0.000045  00:11:47\n",
       "4 2022-12-08 12:25:00  172.18.0.13   172.18.0.1   0.000009  00:11:47"
      ]
     },
     "execution_count": 12,
     "metadata": {},
     "output_type": "execute_result"
    }
   ],
   "source": [
    "df_test.head()"
   ]
  },
  {
   "cell_type": "markdown",
   "id": "b58d90d3",
   "metadata": {},
   "source": [
    "### Statistical descriptions (pre-remove)"
   ]
  },
  {
   "cell_type": "code",
   "execution_count": 13,
   "id": "73d26edd",
   "metadata": {},
   "outputs": [
    {
     "data": {
      "text/html": [
       "<div>\n",
       "<style scoped>\n",
       "    .dataframe tbody tr th:only-of-type {\n",
       "        vertical-align: middle;\n",
       "    }\n",
       "\n",
       "    .dataframe tbody tr th {\n",
       "        vertical-align: top;\n",
       "    }\n",
       "\n",
       "    .dataframe thead th {\n",
       "        text-align: right;\n",
       "    }\n",
       "</style>\n",
       "<table border=\"1\" class=\"dataframe\">\n",
       "  <thead>\n",
       "    <tr style=\"text-align: right;\">\n",
       "      <th></th>\n",
       "      <th>TimeDelta</th>\n",
       "    </tr>\n",
       "  </thead>\n",
       "  <tbody>\n",
       "    <tr>\n",
       "      <th>count</th>\n",
       "      <td>3.292040e+05</td>\n",
       "    </tr>\n",
       "    <tr>\n",
       "      <th>mean</th>\n",
       "      <td>3.416148e-02</td>\n",
       "    </tr>\n",
       "    <tr>\n",
       "      <th>std</th>\n",
       "      <td>3.489355e-01</td>\n",
       "    </tr>\n",
       "    <tr>\n",
       "      <th>min</th>\n",
       "      <td>1.000000e-09</td>\n",
       "    </tr>\n",
       "    <tr>\n",
       "      <th>25%</th>\n",
       "      <td>2.820500e-05</td>\n",
       "    </tr>\n",
       "    <tr>\n",
       "      <th>50%</th>\n",
       "      <td>9.539900e-05</td>\n",
       "    </tr>\n",
       "    <tr>\n",
       "      <th>75%</th>\n",
       "      <td>4.383410e-04</td>\n",
       "    </tr>\n",
       "    <tr>\n",
       "      <th>max</th>\n",
       "      <td>5.010458e+00</td>\n",
       "    </tr>\n",
       "  </tbody>\n",
       "</table>\n",
       "</div>"
      ],
      "text/plain": [
       "          TimeDelta\n",
       "count  3.292040e+05\n",
       "mean   3.416148e-02\n",
       "std    3.489355e-01\n",
       "min    1.000000e-09\n",
       "25%    2.820500e-05\n",
       "50%    9.539900e-05\n",
       "75%    4.383410e-04\n",
       "max    5.010458e+00"
      ]
     },
     "execution_count": 13,
     "metadata": {},
     "output_type": "execute_result"
    }
   ],
   "source": [
    "df_test.describe()"
   ]
  },
  {
   "cell_type": "markdown",
   "id": "fd013248",
   "metadata": {},
   "source": [
    "### Dataframes - removing TimeDelta outliers (cleaning network noise)"
   ]
  },
  {
   "cell_type": "code",
   "execution_count": 14,
   "id": "dac740d3",
   "metadata": {},
   "outputs": [],
   "source": [
    "#def remove_outliers(df1, df2):\n",
    "#    sendIPs = list(set(df1[\"SendIP\"]))\n",
    "#\n",
    "#    for ip in sendIPs:\n",
    "#        q31 = df1[df1.SendIP == ip].TimeDelta.quantile(.75)\n",
    "#        q32 = df2[df2.SendIP == ip].TimeDelta.quantile(.75)\n",
    "#\n",
    "#        idx1 = list(df1[(df1.TimeDelta > q31) & (df1.SendIP == ip)].index)\n",
    "#        df1.drop(index=idx1, axis=0, inplace=True)\n",
    "#\n",
    "#        idx2 = list(df2[(df2.TimeDelta > q32)\n",
    "#                      & (df2.SendIP == ip)].index)\n",
    "#        df2.drop(index=idx2, axis=0, inplace=True)\n",
    "#\n",
    "#\n",
    "#remove_outliers(df_test1, df_test2)"
   ]
  },
  {
   "cell_type": "markdown",
   "id": "affeec23",
   "metadata": {},
   "source": [
    "### Statistical descriptions (post-remove)"
   ]
  },
  {
   "cell_type": "code",
   "execution_count": 15,
   "id": "6d822567",
   "metadata": {},
   "outputs": [],
   "source": [
    "#df_test1.describe()"
   ]
  },
  {
   "cell_type": "code",
   "execution_count": 16,
   "id": "adfaa8cc",
   "metadata": {},
   "outputs": [],
   "source": [
    "#df_test2.describe()"
   ]
  },
  {
   "cell_type": "markdown",
   "id": "53ae59b0",
   "metadata": {},
   "source": [
    "### TimeDelta mean"
   ]
  },
  {
   "cell_type": "code",
   "execution_count": 17,
   "id": "904e96e6",
   "metadata": {},
   "outputs": [],
   "source": [
    "res_test = df_test.groupby(['SendIP', 'RecvIP']).mean(numeric_only=True)"
   ]
  },
  {
   "cell_type": "code",
   "execution_count": 18,
   "id": "8f6d2573",
   "metadata": {
    "scrolled": true
   },
   "outputs": [
    {
     "data": {
      "text/html": [
       "<div>\n",
       "<style scoped>\n",
       "    .dataframe tbody tr th:only-of-type {\n",
       "        vertical-align: middle;\n",
       "    }\n",
       "\n",
       "    .dataframe tbody tr th {\n",
       "        vertical-align: top;\n",
       "    }\n",
       "\n",
       "    .dataframe thead th {\n",
       "        text-align: right;\n",
       "    }\n",
       "</style>\n",
       "<table border=\"1\" class=\"dataframe\">\n",
       "  <thead>\n",
       "    <tr style=\"text-align: right;\">\n",
       "      <th></th>\n",
       "      <th></th>\n",
       "      <th>TimeDelta</th>\n",
       "    </tr>\n",
       "    <tr>\n",
       "      <th>SendIP</th>\n",
       "      <th>RecvIP</th>\n",
       "      <th></th>\n",
       "    </tr>\n",
       "  </thead>\n",
       "  <tbody>\n",
       "    <tr>\n",
       "      <th rowspan=\"5\" valign=\"top\">172.18.0.1</th>\n",
       "      <th>172.18.0.12</th>\n",
       "      <td>0.000021</td>\n",
       "    </tr>\n",
       "    <tr>\n",
       "      <th>172.18.0.13</th>\n",
       "      <td>0.021718</td>\n",
       "    </tr>\n",
       "    <tr>\n",
       "      <th>172.18.0.6</th>\n",
       "      <td>0.000025</td>\n",
       "    </tr>\n",
       "    <tr>\n",
       "      <th>172.18.0.7</th>\n",
       "      <td>0.000023</td>\n",
       "    </tr>\n",
       "    <tr>\n",
       "      <th>172.18.0.8</th>\n",
       "      <td>0.000022</td>\n",
       "    </tr>\n",
       "    <tr>\n",
       "      <th>172.18.0.10</th>\n",
       "      <th>172.18.0.4</th>\n",
       "      <td>0.000174</td>\n",
       "    </tr>\n",
       "    <tr>\n",
       "      <th>172.18.0.11</th>\n",
       "      <th>172.18.0.5</th>\n",
       "      <td>1.555152</td>\n",
       "    </tr>\n",
       "    <tr>\n",
       "      <th>172.18.0.13</th>\n",
       "      <th>172.18.0.1</th>\n",
       "      <td>0.000153</td>\n",
       "    </tr>\n",
       "    <tr>\n",
       "      <th rowspan=\"2\" valign=\"top\">172.18.0.2</th>\n",
       "      <th>172.18.0.6</th>\n",
       "      <td>0.000065</td>\n",
       "    </tr>\n",
       "    <tr>\n",
       "      <th>172.18.0.7</th>\n",
       "      <td>0.000076</td>\n",
       "    </tr>\n",
       "  </tbody>\n",
       "</table>\n",
       "</div>"
      ],
      "text/plain": [
       "                         TimeDelta\n",
       "SendIP      RecvIP                \n",
       "172.18.0.1  172.18.0.12   0.000021\n",
       "            172.18.0.13   0.021718\n",
       "            172.18.0.6    0.000025\n",
       "            172.18.0.7    0.000023\n",
       "            172.18.0.8    0.000022\n",
       "172.18.0.10 172.18.0.4    0.000174\n",
       "172.18.0.11 172.18.0.5    1.555152\n",
       "172.18.0.13 172.18.0.1    0.000153\n",
       "172.18.0.2  172.18.0.6    0.000065\n",
       "            172.18.0.7    0.000076"
      ]
     },
     "execution_count": 18,
     "metadata": {},
     "output_type": "execute_result"
    }
   ],
   "source": [
    "res_test.head(10)"
   ]
  },
  {
   "cell_type": "markdown",
   "id": "1be2f3dd",
   "metadata": {},
   "source": [
    "### Plots\n",
    "\n",
    "- 1 row: the current test\n",
    "- On the **y-axis** we have the **delta time** of the **responses** (*TimeDelta* dataframe column)\n",
    "- On the **x-axis** we have all the pairs (Sender IP, Receiver IP)"
   ]
  },
  {
   "cell_type": "code",
   "execution_count": 19,
   "id": "30d2f3ef",
   "metadata": {
    "scrolled": false
   },
   "outputs": [
    {
     "data": {
      "image/png": "[encoded data removed]",
      "text/plain": [
       "<Figure size 2000x2000 with 1 Axes>"
      ]
     },
     "metadata": {},
     "output_type": "display_data"
    }
   ],
   "source": [
    "plt.rcParams[\"figure.facecolor\"] = (1.0, 1.0, 1.0, 1.0)\n",
    "plt.rcParams[\"axes.facecolor\"] = (1.0, 1.0, 1.0, 1.0)\n",
    "plt.rcParams[\"figure.figsize\"] = (10, 10)\n",
    "plt.rcParams[\"figure.dpi\"] = 200\n",
    "plt.rcParams[\"figure.autolayout\"] = True\n",
    "\n",
    "fg, ax = plt.subplots(nrows=1, ncols=1)\n",
    "\n",
    "res_test.plot(kind='bar', ax=ax, title=f\"{test_duration}{unit} test\")\n",
    "\n",
    "fg.tight_layout()\n",
    "\n",
    "#plt.savefig(\"robotshop-30m-10m-3600r-cmp.png\")\n",
    "plt.show()"
   ]
  }
 ],
 "metadata": {
  "kernelspec": {
   "display_name": "Python 3 (ipykernel)",
   "language": "python",
   "name": "python3"
  },
  "language_info": {
   "codemirror_mode": {
    "name": "ipython",
    "version": 3
   },
   "file_extension": ".py",
   "mimetype": "text/x-python",
   "name": "python",
   "nbconvert_exporter": "python",
   "pygments_lexer": "ipython3",
   "version": "3.10.8"
  },
  "vscode": {
   "interpreter": {
    "hash": "009d594d5fc75ee588402da9091b48a99d5616f84efbbd64c34fbc75af199597"
   }
  }
 },
 "nbformat": 4,
 "nbformat_minor": 5
}
